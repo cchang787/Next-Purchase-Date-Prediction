{
 "cells": [
  {
   "cell_type": "markdown",
   "metadata": {},
   "source": [
    "#  Next Purchase Date Prediction"
   ]
  },
  {
   "cell_type": "markdown",
   "metadata": {},
   "source": [
    "**Purpose**: The purpose of this project is to use machine learning to predict a customer's propensity to make a purchase in the next seven days based on recency, frequency, and monetary value features. \n",
    "\n",
    "**Business Benefit**: Knowing the approximate date that customer is expected to make a purchase is critical for strategic marketing. If a customer doesn’t make a purchase within the expected timeframe, the marketing team can target him with an incentive to increase the likelihood that he will make a purchase. \n",
    "\n",
    "**Data Set Information**: This is a transnational data set which contains all the transactions occurring between 01/12/2010 and 09/12/2011 for a UK-based and registered non-store online retail.The company mainly sells unique all-occasion gifts. Many customers of the company are wholesalers.\n",
    "\n",
    "**Data Source**: [Online Retail Data Set](http://archive.ics.uci.edu/ml/datasets/online+retail)"
   ]
  },
  {
   "cell_type": "code",
   "execution_count": 1,
   "metadata": {
    "scrolled": true
   },
   "outputs": [],
   "source": [
    "import pandas as pd\n",
    "import numpy as np \n",
    "import matplotlib.pyplot as plt\n",
    "import datetime as dt \n",
    "df = pd.read_excel('Online Retail.xlsx')"
   ]
  },
  {
   "cell_type": "markdown",
   "metadata": {},
   "source": [
    "# Data Preprocessing"
   ]
  },
  {
   "cell_type": "markdown",
   "metadata": {},
   "source": [
    "Before building our machine learning models, we must clean our data: \n",
    "- 1) Data type conversion\n",
    "- 2) Remove erroneous data\n",
    "- 3) Remove missing values \n",
    "- 4) Remove duplicate rows "
   ]
  },
  {
   "cell_type": "code",
   "execution_count": 2,
   "metadata": {},
   "outputs": [
    {
     "data": {
      "text/plain": [
       "(541909, 8)"
      ]
     },
     "execution_count": 2,
     "metadata": {},
     "output_type": "execute_result"
    }
   ],
   "source": [
    "df.shape"
   ]
  },
  {
   "cell_type": "markdown",
   "metadata": {},
   "source": [
    "Our data set has 541,909 rows and 8 columns."
   ]
  },
  {
   "cell_type": "code",
   "execution_count": 3,
   "metadata": {},
   "outputs": [
    {
     "name": "stdout",
     "output_type": "stream",
     "text": [
      "<class 'pandas.core.frame.DataFrame'>\n",
      "RangeIndex: 541909 entries, 0 to 541908\n",
      "Data columns (total 8 columns):\n",
      "InvoiceNo      541909 non-null object\n",
      "StockCode      541909 non-null object\n",
      "Description    540455 non-null object\n",
      "Quantity       541909 non-null int64\n",
      "InvoiceDate    541909 non-null datetime64[ns]\n",
      "UnitPrice      541909 non-null float64\n",
      "CustomerID     406829 non-null float64\n",
      "Country        541909 non-null object\n",
      "dtypes: datetime64[ns](1), float64(2), int64(1), object(4)\n",
      "memory usage: 33.1+ MB\n"
     ]
    }
   ],
   "source": [
    "df.info()"
   ]
  },
  {
   "cell_type": "code",
   "execution_count": 4,
   "metadata": {},
   "outputs": [
    {
     "data": {
      "text/html": [
       "<div>\n",
       "<style scoped>\n",
       "    .dataframe tbody tr th:only-of-type {\n",
       "        vertical-align: middle;\n",
       "    }\n",
       "\n",
       "    .dataframe tbody tr th {\n",
       "        vertical-align: top;\n",
       "    }\n",
       "\n",
       "    .dataframe thead th {\n",
       "        text-align: right;\n",
       "    }\n",
       "</style>\n",
       "<table border=\"1\" class=\"dataframe\">\n",
       "  <thead>\n",
       "    <tr style=\"text-align: right;\">\n",
       "      <th></th>\n",
       "      <th>InvoiceNo</th>\n",
       "      <th>StockCode</th>\n",
       "      <th>Description</th>\n",
       "      <th>Quantity</th>\n",
       "      <th>InvoiceDate</th>\n",
       "      <th>UnitPrice</th>\n",
       "      <th>CustomerID</th>\n",
       "      <th>Country</th>\n",
       "    </tr>\n",
       "  </thead>\n",
       "  <tbody>\n",
       "    <tr>\n",
       "      <th>0</th>\n",
       "      <td>536365</td>\n",
       "      <td>85123A</td>\n",
       "      <td>WHITE HANGING HEART T-LIGHT HOLDER</td>\n",
       "      <td>6</td>\n",
       "      <td>2010-12-01 08:26:00</td>\n",
       "      <td>2.55</td>\n",
       "      <td>17850.0</td>\n",
       "      <td>United Kingdom</td>\n",
       "    </tr>\n",
       "    <tr>\n",
       "      <th>1</th>\n",
       "      <td>536365</td>\n",
       "      <td>71053</td>\n",
       "      <td>WHITE METAL LANTERN</td>\n",
       "      <td>6</td>\n",
       "      <td>2010-12-01 08:26:00</td>\n",
       "      <td>3.39</td>\n",
       "      <td>17850.0</td>\n",
       "      <td>United Kingdom</td>\n",
       "    </tr>\n",
       "    <tr>\n",
       "      <th>2</th>\n",
       "      <td>536365</td>\n",
       "      <td>84406B</td>\n",
       "      <td>CREAM CUPID HEARTS COAT HANGER</td>\n",
       "      <td>8</td>\n",
       "      <td>2010-12-01 08:26:00</td>\n",
       "      <td>2.75</td>\n",
       "      <td>17850.0</td>\n",
       "      <td>United Kingdom</td>\n",
       "    </tr>\n",
       "    <tr>\n",
       "      <th>3</th>\n",
       "      <td>536365</td>\n",
       "      <td>84029G</td>\n",
       "      <td>KNITTED UNION FLAG HOT WATER BOTTLE</td>\n",
       "      <td>6</td>\n",
       "      <td>2010-12-01 08:26:00</td>\n",
       "      <td>3.39</td>\n",
       "      <td>17850.0</td>\n",
       "      <td>United Kingdom</td>\n",
       "    </tr>\n",
       "    <tr>\n",
       "      <th>4</th>\n",
       "      <td>536365</td>\n",
       "      <td>84029E</td>\n",
       "      <td>RED WOOLLY HOTTIE WHITE HEART.</td>\n",
       "      <td>6</td>\n",
       "      <td>2010-12-01 08:26:00</td>\n",
       "      <td>3.39</td>\n",
       "      <td>17850.0</td>\n",
       "      <td>United Kingdom</td>\n",
       "    </tr>\n",
       "  </tbody>\n",
       "</table>\n",
       "</div>"
      ],
      "text/plain": [
       "  InvoiceNo StockCode                          Description  Quantity  \\\n",
       "0    536365    85123A   WHITE HANGING HEART T-LIGHT HOLDER         6   \n",
       "1    536365     71053                  WHITE METAL LANTERN         6   \n",
       "2    536365    84406B       CREAM CUPID HEARTS COAT HANGER         8   \n",
       "3    536365    84029G  KNITTED UNION FLAG HOT WATER BOTTLE         6   \n",
       "4    536365    84029E       RED WOOLLY HOTTIE WHITE HEART.         6   \n",
       "\n",
       "          InvoiceDate  UnitPrice  CustomerID         Country  \n",
       "0 2010-12-01 08:26:00       2.55     17850.0  United Kingdom  \n",
       "1 2010-12-01 08:26:00       3.39     17850.0  United Kingdom  \n",
       "2 2010-12-01 08:26:00       2.75     17850.0  United Kingdom  \n",
       "3 2010-12-01 08:26:00       3.39     17850.0  United Kingdom  \n",
       "4 2010-12-01 08:26:00       3.39     17850.0  United Kingdom  "
      ]
     },
     "execution_count": 4,
     "metadata": {},
     "output_type": "execute_result"
    }
   ],
   "source": [
    "df.head()"
   ]
  },
  {
   "cell_type": "code",
   "execution_count": 5,
   "metadata": {},
   "outputs": [],
   "source": [
    "# Convert CustomerID to object type \n",
    "df['CustomerID'] = df['CustomerID'].astype('object')"
   ]
  },
  {
   "cell_type": "code",
   "execution_count": 6,
   "metadata": {},
   "outputs": [
    {
     "data": {
      "text/html": [
       "<div>\n",
       "<style scoped>\n",
       "    .dataframe tbody tr th:only-of-type {\n",
       "        vertical-align: middle;\n",
       "    }\n",
       "\n",
       "    .dataframe tbody tr th {\n",
       "        vertical-align: top;\n",
       "    }\n",
       "\n",
       "    .dataframe thead th {\n",
       "        text-align: right;\n",
       "    }\n",
       "</style>\n",
       "<table border=\"1\" class=\"dataframe\">\n",
       "  <thead>\n",
       "    <tr style=\"text-align: right;\">\n",
       "      <th></th>\n",
       "      <th>Quantity</th>\n",
       "      <th>UnitPrice</th>\n",
       "    </tr>\n",
       "  </thead>\n",
       "  <tbody>\n",
       "    <tr>\n",
       "      <th>count</th>\n",
       "      <td>541909.000000</td>\n",
       "      <td>541909.000000</td>\n",
       "    </tr>\n",
       "    <tr>\n",
       "      <th>mean</th>\n",
       "      <td>9.552250</td>\n",
       "      <td>4.611114</td>\n",
       "    </tr>\n",
       "    <tr>\n",
       "      <th>std</th>\n",
       "      <td>218.081158</td>\n",
       "      <td>96.759853</td>\n",
       "    </tr>\n",
       "    <tr>\n",
       "      <th>min</th>\n",
       "      <td>-80995.000000</td>\n",
       "      <td>-11062.060000</td>\n",
       "    </tr>\n",
       "    <tr>\n",
       "      <th>25%</th>\n",
       "      <td>1.000000</td>\n",
       "      <td>1.250000</td>\n",
       "    </tr>\n",
       "    <tr>\n",
       "      <th>50%</th>\n",
       "      <td>3.000000</td>\n",
       "      <td>2.080000</td>\n",
       "    </tr>\n",
       "    <tr>\n",
       "      <th>75%</th>\n",
       "      <td>10.000000</td>\n",
       "      <td>4.130000</td>\n",
       "    </tr>\n",
       "    <tr>\n",
       "      <th>max</th>\n",
       "      <td>80995.000000</td>\n",
       "      <td>38970.000000</td>\n",
       "    </tr>\n",
       "  </tbody>\n",
       "</table>\n",
       "</div>"
      ],
      "text/plain": [
       "            Quantity      UnitPrice\n",
       "count  541909.000000  541909.000000\n",
       "mean        9.552250       4.611114\n",
       "std       218.081158      96.759853\n",
       "min    -80995.000000  -11062.060000\n",
       "25%         1.000000       1.250000\n",
       "50%         3.000000       2.080000\n",
       "75%        10.000000       4.130000\n",
       "max     80995.000000   38970.000000"
      ]
     },
     "execution_count": 6,
     "metadata": {},
     "output_type": "execute_result"
    }
   ],
   "source": [
    "df.describe()"
   ]
  },
  {
   "cell_type": "markdown",
   "metadata": {},
   "source": [
    "There are negative values associated with both *Quantity* and *UnitPrice*. Let's investigate why these values are negative."
   ]
  },
  {
   "cell_type": "code",
   "execution_count": 7,
   "metadata": {},
   "outputs": [
    {
     "data": {
      "text/html": [
       "<div>\n",
       "<style scoped>\n",
       "    .dataframe tbody tr th:only-of-type {\n",
       "        vertical-align: middle;\n",
       "    }\n",
       "\n",
       "    .dataframe tbody tr th {\n",
       "        vertical-align: top;\n",
       "    }\n",
       "\n",
       "    .dataframe thead th {\n",
       "        text-align: right;\n",
       "    }\n",
       "</style>\n",
       "<table border=\"1\" class=\"dataframe\">\n",
       "  <thead>\n",
       "    <tr style=\"text-align: right;\">\n",
       "      <th></th>\n",
       "      <th>InvoiceNo</th>\n",
       "      <th>StockCode</th>\n",
       "      <th>Description</th>\n",
       "      <th>Quantity</th>\n",
       "      <th>InvoiceDate</th>\n",
       "      <th>UnitPrice</th>\n",
       "      <th>CustomerID</th>\n",
       "      <th>Country</th>\n",
       "    </tr>\n",
       "  </thead>\n",
       "  <tbody>\n",
       "    <tr>\n",
       "      <th>141</th>\n",
       "      <td>C536379</td>\n",
       "      <td>D</td>\n",
       "      <td>Discount</td>\n",
       "      <td>-1</td>\n",
       "      <td>2010-12-01 09:41:00</td>\n",
       "      <td>27.50</td>\n",
       "      <td>14527</td>\n",
       "      <td>United Kingdom</td>\n",
       "    </tr>\n",
       "    <tr>\n",
       "      <th>154</th>\n",
       "      <td>C536383</td>\n",
       "      <td>35004C</td>\n",
       "      <td>SET OF 3 COLOURED  FLYING DUCKS</td>\n",
       "      <td>-1</td>\n",
       "      <td>2010-12-01 09:49:00</td>\n",
       "      <td>4.65</td>\n",
       "      <td>15311</td>\n",
       "      <td>United Kingdom</td>\n",
       "    </tr>\n",
       "    <tr>\n",
       "      <th>235</th>\n",
       "      <td>C536391</td>\n",
       "      <td>22556</td>\n",
       "      <td>PLASTERS IN TIN CIRCUS PARADE</td>\n",
       "      <td>-12</td>\n",
       "      <td>2010-12-01 10:24:00</td>\n",
       "      <td>1.65</td>\n",
       "      <td>17548</td>\n",
       "      <td>United Kingdom</td>\n",
       "    </tr>\n",
       "    <tr>\n",
       "      <th>236</th>\n",
       "      <td>C536391</td>\n",
       "      <td>21984</td>\n",
       "      <td>PACK OF 12 PINK PAISLEY TISSUES</td>\n",
       "      <td>-24</td>\n",
       "      <td>2010-12-01 10:24:00</td>\n",
       "      <td>0.29</td>\n",
       "      <td>17548</td>\n",
       "      <td>United Kingdom</td>\n",
       "    </tr>\n",
       "    <tr>\n",
       "      <th>237</th>\n",
       "      <td>C536391</td>\n",
       "      <td>21983</td>\n",
       "      <td>PACK OF 12 BLUE PAISLEY TISSUES</td>\n",
       "      <td>-24</td>\n",
       "      <td>2010-12-01 10:24:00</td>\n",
       "      <td>0.29</td>\n",
       "      <td>17548</td>\n",
       "      <td>United Kingdom</td>\n",
       "    </tr>\n",
       "    <tr>\n",
       "      <th>238</th>\n",
       "      <td>C536391</td>\n",
       "      <td>21980</td>\n",
       "      <td>PACK OF 12 RED RETROSPOT TISSUES</td>\n",
       "      <td>-24</td>\n",
       "      <td>2010-12-01 10:24:00</td>\n",
       "      <td>0.29</td>\n",
       "      <td>17548</td>\n",
       "      <td>United Kingdom</td>\n",
       "    </tr>\n",
       "    <tr>\n",
       "      <th>239</th>\n",
       "      <td>C536391</td>\n",
       "      <td>21484</td>\n",
       "      <td>CHICK GREY HOT WATER BOTTLE</td>\n",
       "      <td>-12</td>\n",
       "      <td>2010-12-01 10:24:00</td>\n",
       "      <td>3.45</td>\n",
       "      <td>17548</td>\n",
       "      <td>United Kingdom</td>\n",
       "    </tr>\n",
       "    <tr>\n",
       "      <th>240</th>\n",
       "      <td>C536391</td>\n",
       "      <td>22557</td>\n",
       "      <td>PLASTERS IN TIN VINTAGE PAISLEY</td>\n",
       "      <td>-12</td>\n",
       "      <td>2010-12-01 10:24:00</td>\n",
       "      <td>1.65</td>\n",
       "      <td>17548</td>\n",
       "      <td>United Kingdom</td>\n",
       "    </tr>\n",
       "    <tr>\n",
       "      <th>241</th>\n",
       "      <td>C536391</td>\n",
       "      <td>22553</td>\n",
       "      <td>PLASTERS IN TIN SKULLS</td>\n",
       "      <td>-24</td>\n",
       "      <td>2010-12-01 10:24:00</td>\n",
       "      <td>1.65</td>\n",
       "      <td>17548</td>\n",
       "      <td>United Kingdom</td>\n",
       "    </tr>\n",
       "    <tr>\n",
       "      <th>939</th>\n",
       "      <td>C536506</td>\n",
       "      <td>22960</td>\n",
       "      <td>JAM MAKING SET WITH JARS</td>\n",
       "      <td>-6</td>\n",
       "      <td>2010-12-01 12:38:00</td>\n",
       "      <td>4.25</td>\n",
       "      <td>17897</td>\n",
       "      <td>United Kingdom</td>\n",
       "    </tr>\n",
       "  </tbody>\n",
       "</table>\n",
       "</div>"
      ],
      "text/plain": [
       "    InvoiceNo StockCode                        Description  Quantity  \\\n",
       "141   C536379         D                           Discount        -1   \n",
       "154   C536383    35004C    SET OF 3 COLOURED  FLYING DUCKS        -1   \n",
       "235   C536391     22556     PLASTERS IN TIN CIRCUS PARADE        -12   \n",
       "236   C536391     21984   PACK OF 12 PINK PAISLEY TISSUES        -24   \n",
       "237   C536391     21983   PACK OF 12 BLUE PAISLEY TISSUES        -24   \n",
       "238   C536391     21980  PACK OF 12 RED RETROSPOT TISSUES        -24   \n",
       "239   C536391     21484        CHICK GREY HOT WATER BOTTLE       -12   \n",
       "240   C536391     22557   PLASTERS IN TIN VINTAGE PAISLEY        -12   \n",
       "241   C536391     22553             PLASTERS IN TIN SKULLS       -24   \n",
       "939   C536506     22960           JAM MAKING SET WITH JARS        -6   \n",
       "\n",
       "            InvoiceDate  UnitPrice CustomerID         Country  \n",
       "141 2010-12-01 09:41:00      27.50      14527  United Kingdom  \n",
       "154 2010-12-01 09:49:00       4.65      15311  United Kingdom  \n",
       "235 2010-12-01 10:24:00       1.65      17548  United Kingdom  \n",
       "236 2010-12-01 10:24:00       0.29      17548  United Kingdom  \n",
       "237 2010-12-01 10:24:00       0.29      17548  United Kingdom  \n",
       "238 2010-12-01 10:24:00       0.29      17548  United Kingdom  \n",
       "239 2010-12-01 10:24:00       3.45      17548  United Kingdom  \n",
       "240 2010-12-01 10:24:00       1.65      17548  United Kingdom  \n",
       "241 2010-12-01 10:24:00       1.65      17548  United Kingdom  \n",
       "939 2010-12-01 12:38:00       4.25      17897  United Kingdom  "
      ]
     },
     "execution_count": 7,
     "metadata": {},
     "output_type": "execute_result"
    }
   ],
   "source": [
    "# Investigate negative \"Quantity\" values\n",
    "df[df[\"Quantity\"] < 0].head(10)"
   ]
  },
  {
   "cell_type": "markdown",
   "metadata": {},
   "source": [
    "The invoice numbers associated with negative quantity values start with a \"C\". This represents orders that were cancelled. "
   ]
  },
  {
   "cell_type": "code",
   "execution_count": 8,
   "metadata": {},
   "outputs": [
    {
     "data": {
      "text/html": [
       "<div>\n",
       "<style scoped>\n",
       "    .dataframe tbody tr th:only-of-type {\n",
       "        vertical-align: middle;\n",
       "    }\n",
       "\n",
       "    .dataframe tbody tr th {\n",
       "        vertical-align: top;\n",
       "    }\n",
       "\n",
       "    .dataframe thead th {\n",
       "        text-align: right;\n",
       "    }\n",
       "</style>\n",
       "<table border=\"1\" class=\"dataframe\">\n",
       "  <thead>\n",
       "    <tr style=\"text-align: right;\">\n",
       "      <th></th>\n",
       "      <th>InvoiceNo</th>\n",
       "      <th>StockCode</th>\n",
       "      <th>Description</th>\n",
       "      <th>Quantity</th>\n",
       "      <th>InvoiceDate</th>\n",
       "      <th>UnitPrice</th>\n",
       "      <th>CustomerID</th>\n",
       "      <th>Country</th>\n",
       "    </tr>\n",
       "  </thead>\n",
       "  <tbody>\n",
       "    <tr>\n",
       "      <th>299983</th>\n",
       "      <td>A563186</td>\n",
       "      <td>B</td>\n",
       "      <td>Adjust bad debt</td>\n",
       "      <td>1</td>\n",
       "      <td>2011-08-12 14:51:00</td>\n",
       "      <td>-11062.06</td>\n",
       "      <td>NaN</td>\n",
       "      <td>United Kingdom</td>\n",
       "    </tr>\n",
       "    <tr>\n",
       "      <th>299984</th>\n",
       "      <td>A563187</td>\n",
       "      <td>B</td>\n",
       "      <td>Adjust bad debt</td>\n",
       "      <td>1</td>\n",
       "      <td>2011-08-12 14:52:00</td>\n",
       "      <td>-11062.06</td>\n",
       "      <td>NaN</td>\n",
       "      <td>United Kingdom</td>\n",
       "    </tr>\n",
       "  </tbody>\n",
       "</table>\n",
       "</div>"
      ],
      "text/plain": [
       "       InvoiceNo StockCode      Description  Quantity         InvoiceDate  \\\n",
       "299983   A563186         B  Adjust bad debt         1 2011-08-12 14:51:00   \n",
       "299984   A563187         B  Adjust bad debt         1 2011-08-12 14:52:00   \n",
       "\n",
       "        UnitPrice CustomerID         Country  \n",
       "299983  -11062.06        NaN  United Kingdom  \n",
       "299984  -11062.06        NaN  United Kingdom  "
      ]
     },
     "execution_count": 8,
     "metadata": {},
     "output_type": "execute_result"
    }
   ],
   "source": [
    "# Investigate negative \"UnitPrice\" values\n",
    "df[df[\"UnitPrice\"] < 0].head(10)"
   ]
  },
  {
   "cell_type": "markdown",
   "metadata": {},
   "source": [
    "Negative *UnitPrice* values are associated wtih adjusted bad debt. We will remove these values along with negative quantity values."
   ]
  },
  {
   "cell_type": "code",
   "execution_count": 9,
   "metadata": {},
   "outputs": [],
   "source": [
    "# Remove negative quantity values and negative UnitPrice values\n",
    "df = df[(df['Quantity'] > 0)]\n",
    "df = df[(df['UnitPrice'] > 0)]"
   ]
  },
  {
   "cell_type": "code",
   "execution_count": 10,
   "metadata": {},
   "outputs": [
    {
     "name": "stdout",
     "output_type": "stream",
     "text": [
      "InvoiceNo :  19960\n",
      "StockCode :  3922\n",
      "Description :  4026\n",
      "Quantity :  375\n",
      "InvoiceDate :  18499\n",
      "UnitPrice :  1291\n",
      "CustomerID :  4338\n",
      "Country :  38\n"
     ]
    }
   ],
   "source": [
    "#Check unique value for each column in df\n",
    "def unique_counts(df):\n",
    "    for i in df.columns:\n",
    "        count = df[i].nunique()\n",
    "        print(i, \": \", count)\n",
    "unique_counts(df)"
   ]
  },
  {
   "cell_type": "markdown",
   "metadata": {},
   "source": [
    "Let's check if there are any missing values."
   ]
  },
  {
   "cell_type": "code",
   "execution_count": 11,
   "metadata": {},
   "outputs": [
    {
     "data": {
      "text/plain": [
       "InvoiceNo           0\n",
       "StockCode           0\n",
       "Description         0\n",
       "Quantity            0\n",
       "InvoiceDate         0\n",
       "UnitPrice           0\n",
       "CustomerID     132220\n",
       "Country             0\n",
       "dtype: int64"
      ]
     },
     "execution_count": 11,
     "metadata": {},
     "output_type": "execute_result"
    }
   ],
   "source": [
    "# Check for missing values \n",
    "df.isnull().sum()"
   ]
  },
  {
   "cell_type": "markdown",
   "metadata": {},
   "source": [
    "*CustomerID* has many missing values. We will remove these rows with missing values from our dataframe."
   ]
  },
  {
   "cell_type": "code",
   "execution_count": 12,
   "metadata": {},
   "outputs": [],
   "source": [
    "# Remove null values for CustomerID\n",
    "df = df[pd.notnull(df['CustomerID'])]"
   ]
  },
  {
   "cell_type": "markdown",
   "metadata": {},
   "source": [
    "Let's also check for rows with duplicate values.  "
   ]
  },
  {
   "cell_type": "code",
   "execution_count": 13,
   "metadata": {},
   "outputs": [
    {
     "data": {
      "text/plain": [
       "5192"
      ]
     },
     "execution_count": 13,
     "metadata": {},
     "output_type": "execute_result"
    }
   ],
   "source": [
    "# Check for duplicates\n",
    "df.duplicated().sum()"
   ]
  },
  {
   "cell_type": "markdown",
   "metadata": {},
   "source": [
    "We will remove these duplicate rows from our dataframe. "
   ]
  },
  {
   "cell_type": "code",
   "execution_count": 14,
   "metadata": {},
   "outputs": [],
   "source": [
    "# Remove duplicates \n",
    "df = df.drop_duplicates()"
   ]
  },
  {
   "cell_type": "markdown",
   "metadata": {},
   "source": [
    "# Feature Engineering"
   ]
  },
  {
   "cell_type": "markdown",
   "metadata": {},
   "source": [
    "Feature engineering involves using domain expertise to develop features that are compatible with machine learning algorithms. I will use feature engineering to create RFM (recency, frequency, and monetary) features and a seven day target window for prediction. \n",
    "\n",
    "- **Recency**: The number of days since a customer's last purchase.\n",
    "- **Frequency**: The total number of purchases a customer made. \n",
    "- **Monetary Value**: Total amount a customer spent. "
   ]
  },
  {
   "cell_type": "code",
   "execution_count": 15,
   "metadata": {},
   "outputs": [
    {
     "data": {
      "text/html": [
       "<div>\n",
       "<style scoped>\n",
       "    .dataframe tbody tr th:only-of-type {\n",
       "        vertical-align: middle;\n",
       "    }\n",
       "\n",
       "    .dataframe tbody tr th {\n",
       "        vertical-align: top;\n",
       "    }\n",
       "\n",
       "    .dataframe thead th {\n",
       "        text-align: right;\n",
       "    }\n",
       "</style>\n",
       "<table border=\"1\" class=\"dataframe\">\n",
       "  <thead>\n",
       "    <tr style=\"text-align: right;\">\n",
       "      <th></th>\n",
       "      <th>InvoiceNo</th>\n",
       "      <th>StockCode</th>\n",
       "      <th>Description</th>\n",
       "      <th>Quantity</th>\n",
       "      <th>InvoiceDate</th>\n",
       "      <th>UnitPrice</th>\n",
       "      <th>CustomerID</th>\n",
       "      <th>Country</th>\n",
       "    </tr>\n",
       "  </thead>\n",
       "  <tbody>\n",
       "    <tr>\n",
       "      <th>0</th>\n",
       "      <td>536365</td>\n",
       "      <td>85123A</td>\n",
       "      <td>WHITE HANGING HEART T-LIGHT HOLDER</td>\n",
       "      <td>6</td>\n",
       "      <td>2010-12-01 08:26:00</td>\n",
       "      <td>2.55</td>\n",
       "      <td>17850</td>\n",
       "      <td>United Kingdom</td>\n",
       "    </tr>\n",
       "    <tr>\n",
       "      <th>1</th>\n",
       "      <td>536365</td>\n",
       "      <td>71053</td>\n",
       "      <td>WHITE METAL LANTERN</td>\n",
       "      <td>6</td>\n",
       "      <td>2010-12-01 08:26:00</td>\n",
       "      <td>3.39</td>\n",
       "      <td>17850</td>\n",
       "      <td>United Kingdom</td>\n",
       "    </tr>\n",
       "    <tr>\n",
       "      <th>2</th>\n",
       "      <td>536365</td>\n",
       "      <td>84406B</td>\n",
       "      <td>CREAM CUPID HEARTS COAT HANGER</td>\n",
       "      <td>8</td>\n",
       "      <td>2010-12-01 08:26:00</td>\n",
       "      <td>2.75</td>\n",
       "      <td>17850</td>\n",
       "      <td>United Kingdom</td>\n",
       "    </tr>\n",
       "    <tr>\n",
       "      <th>3</th>\n",
       "      <td>536365</td>\n",
       "      <td>84029G</td>\n",
       "      <td>KNITTED UNION FLAG HOT WATER BOTTLE</td>\n",
       "      <td>6</td>\n",
       "      <td>2010-12-01 08:26:00</td>\n",
       "      <td>3.39</td>\n",
       "      <td>17850</td>\n",
       "      <td>United Kingdom</td>\n",
       "    </tr>\n",
       "    <tr>\n",
       "      <th>4</th>\n",
       "      <td>536365</td>\n",
       "      <td>84029E</td>\n",
       "      <td>RED WOOLLY HOTTIE WHITE HEART.</td>\n",
       "      <td>6</td>\n",
       "      <td>2010-12-01 08:26:00</td>\n",
       "      <td>3.39</td>\n",
       "      <td>17850</td>\n",
       "      <td>United Kingdom</td>\n",
       "    </tr>\n",
       "  </tbody>\n",
       "</table>\n",
       "</div>"
      ],
      "text/plain": [
       "  InvoiceNo StockCode                          Description  Quantity  \\\n",
       "0    536365    85123A   WHITE HANGING HEART T-LIGHT HOLDER         6   \n",
       "1    536365     71053                  WHITE METAL LANTERN         6   \n",
       "2    536365    84406B       CREAM CUPID HEARTS COAT HANGER         8   \n",
       "3    536365    84029G  KNITTED UNION FLAG HOT WATER BOTTLE         6   \n",
       "4    536365    84029E       RED WOOLLY HOTTIE WHITE HEART.         6   \n",
       "\n",
       "          InvoiceDate  UnitPrice CustomerID         Country  \n",
       "0 2010-12-01 08:26:00       2.55      17850  United Kingdom  \n",
       "1 2010-12-01 08:26:00       3.39      17850  United Kingdom  \n",
       "2 2010-12-01 08:26:00       2.75      17850  United Kingdom  \n",
       "3 2010-12-01 08:26:00       3.39      17850  United Kingdom  \n",
       "4 2010-12-01 08:26:00       3.39      17850  United Kingdom  "
      ]
     },
     "execution_count": 15,
     "metadata": {},
     "output_type": "execute_result"
    }
   ],
   "source": [
    "df.head()"
   ]
  },
  {
   "cell_type": "markdown",
   "metadata": {},
   "source": [
    "Let's create a column for total price. "
   ]
  },
  {
   "cell_type": "code",
   "execution_count": 16,
   "metadata": {},
   "outputs": [],
   "source": [
    "# Create total price column\n",
    "df['TotalPrice'] = df['Quantity'] * df['UnitPrice']"
   ]
  },
  {
   "cell_type": "markdown",
   "metadata": {},
   "source": [
    "Next, we will create a dataframe to hold data in our target window (last 7 days). We'll also create another dataframe for data before the target window."
   ]
  },
  {
   "cell_type": "code",
   "execution_count": 17,
   "metadata": {},
   "outputs": [
    {
     "name": "stdout",
     "output_type": "stream",
     "text": [
      "2010-12-01 08:26:00\n",
      "2011-12-09 12:50:00\n"
     ]
    }
   ],
   "source": [
    "# Convert RegistrationTime to datetime object  \n",
    "df['InvoiceDate'] = pd.to_datetime(df['InvoiceDate'])\n",
    "print(df['InvoiceDate'].min())\n",
    "print(df['InvoiceDate'].max())"
   ]
  },
  {
   "cell_type": "code",
   "execution_count": 18,
   "metadata": {},
   "outputs": [
    {
     "data": {
      "text/plain": [
       "(379725, 9)"
      ]
     },
     "execution_count": 18,
     "metadata": {},
     "output_type": "execute_result"
    }
   ],
   "source": [
    "# Create data frame without target window data \n",
    "# Target windows is the last 7 days\n",
    "df1 = df[df['InvoiceDate'] < '2011-12-3']\n",
    "df1.shape"
   ]
  },
  {
   "cell_type": "code",
   "execution_count": 19,
   "metadata": {},
   "outputs": [
    {
     "data": {
      "text/plain": [
       "(12967, 9)"
      ]
     },
     "execution_count": 19,
     "metadata": {},
     "output_type": "execute_result"
    }
   ],
   "source": [
    "# Create new dataframe to hold data in the prediction/target window \n",
    "df2 = df[df['InvoiceDate'] >= '2011-12-3']\n",
    "df2.shape"
   ]
  },
  {
   "cell_type": "code",
   "execution_count": 20,
   "metadata": {},
   "outputs": [
    {
     "data": {
      "text/html": [
       "<div>\n",
       "<style scoped>\n",
       "    .dataframe tbody tr th:only-of-type {\n",
       "        vertical-align: middle;\n",
       "    }\n",
       "\n",
       "    .dataframe tbody tr th {\n",
       "        vertical-align: top;\n",
       "    }\n",
       "\n",
       "    .dataframe thead th {\n",
       "        text-align: right;\n",
       "    }\n",
       "</style>\n",
       "<table border=\"1\" class=\"dataframe\">\n",
       "  <thead>\n",
       "    <tr style=\"text-align: right;\">\n",
       "      <th></th>\n",
       "      <th>InvoiceNo</th>\n",
       "      <th>StockCode</th>\n",
       "      <th>Description</th>\n",
       "      <th>Quantity</th>\n",
       "      <th>InvoiceDate</th>\n",
       "      <th>UnitPrice</th>\n",
       "      <th>CustomerID</th>\n",
       "      <th>Country</th>\n",
       "      <th>TotalPrice</th>\n",
       "      <th>Purchase</th>\n",
       "    </tr>\n",
       "  </thead>\n",
       "  <tbody>\n",
       "    <tr>\n",
       "      <th>522165</th>\n",
       "      <td>580384</td>\n",
       "      <td>22193</td>\n",
       "      <td>RED DINER WALL CLOCK</td>\n",
       "      <td>2</td>\n",
       "      <td>2011-12-04 10:10:00</td>\n",
       "      <td>8.50</td>\n",
       "      <td>17243</td>\n",
       "      <td>United Kingdom</td>\n",
       "      <td>17.00</td>\n",
       "      <td>1</td>\n",
       "    </tr>\n",
       "    <tr>\n",
       "      <th>522166</th>\n",
       "      <td>580384</td>\n",
       "      <td>23355</td>\n",
       "      <td>HOT WATER BOTTLE KEEP CALM</td>\n",
       "      <td>2</td>\n",
       "      <td>2011-12-04 10:10:00</td>\n",
       "      <td>4.95</td>\n",
       "      <td>17243</td>\n",
       "      <td>United Kingdom</td>\n",
       "      <td>9.90</td>\n",
       "      <td>1</td>\n",
       "    </tr>\n",
       "    <tr>\n",
       "      <th>522167</th>\n",
       "      <td>580384</td>\n",
       "      <td>22114</td>\n",
       "      <td>HOT WATER BOTTLE TEA AND SYMPATHY</td>\n",
       "      <td>7</td>\n",
       "      <td>2011-12-04 10:10:00</td>\n",
       "      <td>4.25</td>\n",
       "      <td>17243</td>\n",
       "      <td>United Kingdom</td>\n",
       "      <td>29.75</td>\n",
       "      <td>1</td>\n",
       "    </tr>\n",
       "    <tr>\n",
       "      <th>522168</th>\n",
       "      <td>580384</td>\n",
       "      <td>22835</td>\n",
       "      <td>HOT WATER BOTTLE I AM SO POORLY</td>\n",
       "      <td>5</td>\n",
       "      <td>2011-12-04 10:10:00</td>\n",
       "      <td>4.95</td>\n",
       "      <td>17243</td>\n",
       "      <td>United Kingdom</td>\n",
       "      <td>24.75</td>\n",
       "      <td>1</td>\n",
       "    </tr>\n",
       "    <tr>\n",
       "      <th>522169</th>\n",
       "      <td>580384</td>\n",
       "      <td>22112</td>\n",
       "      <td>CHOCOLATE HOT WATER BOTTLE</td>\n",
       "      <td>4</td>\n",
       "      <td>2011-12-04 10:10:00</td>\n",
       "      <td>4.95</td>\n",
       "      <td>17243</td>\n",
       "      <td>United Kingdom</td>\n",
       "      <td>19.80</td>\n",
       "      <td>1</td>\n",
       "    </tr>\n",
       "  </tbody>\n",
       "</table>\n",
       "</div>"
      ],
      "text/plain": [
       "       InvoiceNo StockCode                        Description  Quantity  \\\n",
       "522165    580384     22193               RED DINER WALL CLOCK         2   \n",
       "522166    580384     23355         HOT WATER BOTTLE KEEP CALM         2   \n",
       "522167    580384     22114  HOT WATER BOTTLE TEA AND SYMPATHY         7   \n",
       "522168    580384     22835    HOT WATER BOTTLE I AM SO POORLY         5   \n",
       "522169    580384     22112         CHOCOLATE HOT WATER BOTTLE         4   \n",
       "\n",
       "               InvoiceDate  UnitPrice CustomerID         Country  TotalPrice  \\\n",
       "522165 2011-12-04 10:10:00       8.50      17243  United Kingdom       17.00   \n",
       "522166 2011-12-04 10:10:00       4.95      17243  United Kingdom        9.90   \n",
       "522167 2011-12-04 10:10:00       4.25      17243  United Kingdom       29.75   \n",
       "522168 2011-12-04 10:10:00       4.95      17243  United Kingdom       24.75   \n",
       "522169 2011-12-04 10:10:00       4.95      17243  United Kingdom       19.80   \n",
       "\n",
       "        Purchase  \n",
       "522165         1  \n",
       "522166         1  \n",
       "522167         1  \n",
       "522168         1  \n",
       "522169         1  "
      ]
     },
     "execution_count": 20,
     "metadata": {},
     "output_type": "execute_result"
    }
   ],
   "source": [
    "# Create target column for df2 \n",
    "df2 = df2.assign(Purchase=1)\n",
    "df2.head()"
   ]
  },
  {
   "cell_type": "code",
   "execution_count": 21,
   "metadata": {},
   "outputs": [],
   "source": [
    "# For df2 (target window dataframe), remove all columns except for CustomerID and Purchase\n",
    "df2 = df2.loc[:, ['CustomerID','Purchase']]"
   ]
  },
  {
   "cell_type": "code",
   "execution_count": 22,
   "metadata": {},
   "outputs": [],
   "source": [
    "df2 = df2.set_index('CustomerID')"
   ]
  },
  {
   "cell_type": "code",
   "execution_count": 23,
   "metadata": {},
   "outputs": [
    {
     "data": {
      "text/html": [
       "<div>\n",
       "<style scoped>\n",
       "    .dataframe tbody tr th:only-of-type {\n",
       "        vertical-align: middle;\n",
       "    }\n",
       "\n",
       "    .dataframe tbody tr th {\n",
       "        vertical-align: top;\n",
       "    }\n",
       "\n",
       "    .dataframe thead th {\n",
       "        text-align: right;\n",
       "    }\n",
       "</style>\n",
       "<table border=\"1\" class=\"dataframe\">\n",
       "  <thead>\n",
       "    <tr style=\"text-align: right;\">\n",
       "      <th></th>\n",
       "      <th>Purchase</th>\n",
       "    </tr>\n",
       "    <tr>\n",
       "      <th>CustomerID</th>\n",
       "      <th></th>\n",
       "    </tr>\n",
       "  </thead>\n",
       "  <tbody>\n",
       "    <tr>\n",
       "      <th>17243.0</th>\n",
       "      <td>1</td>\n",
       "    </tr>\n",
       "    <tr>\n",
       "      <th>17243.0</th>\n",
       "      <td>1</td>\n",
       "    </tr>\n",
       "    <tr>\n",
       "      <th>17243.0</th>\n",
       "      <td>1</td>\n",
       "    </tr>\n",
       "    <tr>\n",
       "      <th>17243.0</th>\n",
       "      <td>1</td>\n",
       "    </tr>\n",
       "    <tr>\n",
       "      <th>17243.0</th>\n",
       "      <td>1</td>\n",
       "    </tr>\n",
       "  </tbody>\n",
       "</table>\n",
       "</div>"
      ],
      "text/plain": [
       "            Purchase\n",
       "CustomerID          \n",
       "17243.0            1\n",
       "17243.0            1\n",
       "17243.0            1\n",
       "17243.0            1\n",
       "17243.0            1"
      ]
     },
     "execution_count": 23,
     "metadata": {},
     "output_type": "execute_result"
    }
   ],
   "source": [
    "df2.head()"
   ]
  },
  {
   "cell_type": "markdown",
   "metadata": {},
   "source": [
    "Now we can proceed with creating RFM features. To calculate *recency*, we need to find out how many days have passed since each customer's last purchase. *Frequency* can be computed by counting the number of unique invoices from each customer. *Monetary value* equals the sum of each customer's purchases."
   ]
  },
  {
   "cell_type": "code",
   "execution_count": 24,
   "metadata": {},
   "outputs": [],
   "source": [
    "# Create Recency, Frequency, and Monetary Features\n",
    "most_recent = dt.datetime(2011,12,3)\n",
    "features1 = df1.groupby('CustomerID').agg({'InvoiceDate': lambda x: (most_recent - x.max()).days, \n",
    "                                          'InvoiceNo': lambda x: x.nunique(),\n",
    "                                          'TotalPrice': lambda x: x.sum()})\n",
    "\n",
    "features1['InvoiceDate'] = features1['InvoiceDate'].astype(int)\n",
    "\n",
    "features1.rename(columns={'InvoiceDate': 'Recency', \n",
    "                         'InvoiceNo': 'Frequency',\n",
    "                         'TotalPrice': 'Monetary Value'}, inplace=True)"
   ]
  },
  {
   "cell_type": "markdown",
   "metadata": {},
   "source": [
    "Let's create a new feature called *days since first purchase*. This feature tells us how many days have gone by since the customer's first purchase. "
   ]
  },
  {
   "cell_type": "code",
   "execution_count": 25,
   "metadata": {},
   "outputs": [],
   "source": [
    "# Create days since first purchase column\n",
    "features2 = df1.groupby('CustomerID').agg({'InvoiceDate': lambda x: (most_recent - x.min()).days})\n",
    "features2['InvoiceDate'] = features2['InvoiceDate'].astype(int)\n",
    "features2.rename(columns={'InvoiceDate': 'days since first purchase'}, inplace=True)"
   ]
  },
  {
   "cell_type": "code",
   "execution_count": 26,
   "metadata": {},
   "outputs": [],
   "source": [
    "# Combine features into one dataframe \n",
    "features = pd.merge(features1, features2, left_index=True, right_index=True)"
   ]
  },
  {
   "cell_type": "markdown",
   "metadata": {},
   "source": [
    "Let's also create an *Avg Time Between Purhases* feature since other researchers have found that the average time between purchases is a predictor of future purchases.  "
   ]
  },
  {
   "cell_type": "code",
   "execution_count": 27,
   "metadata": {},
   "outputs": [],
   "source": [
    "# Create new feature: average time between each purchase \n",
    "features['Avg Time Between Purchases'] = (features['days since first purchase'] - features['Recency'])/features['Frequency']"
   ]
  },
  {
   "cell_type": "markdown",
   "metadata": {},
   "source": [
    "Now we'll join the target window to the dataframe with our features.  "
   ]
  },
  {
   "cell_type": "code",
   "execution_count": 28,
   "metadata": {},
   "outputs": [],
   "source": [
    "# Join the target window column to features dataframe \n",
    "features = features.join(df2).fillna(0)\n",
    "features = features.drop_duplicates(keep='first')"
   ]
  },
  {
   "cell_type": "code",
   "execution_count": 29,
   "metadata": {},
   "outputs": [
    {
     "data": {
      "text/html": [
       "<div>\n",
       "<style scoped>\n",
       "    .dataframe tbody tr th:only-of-type {\n",
       "        vertical-align: middle;\n",
       "    }\n",
       "\n",
       "    .dataframe tbody tr th {\n",
       "        vertical-align: top;\n",
       "    }\n",
       "\n",
       "    .dataframe thead th {\n",
       "        text-align: right;\n",
       "    }\n",
       "</style>\n",
       "<table border=\"1\" class=\"dataframe\">\n",
       "  <thead>\n",
       "    <tr style=\"text-align: right;\">\n",
       "      <th></th>\n",
       "      <th>Recency</th>\n",
       "      <th>Frequency</th>\n",
       "      <th>Monetary Value</th>\n",
       "      <th>days since first purchase</th>\n",
       "      <th>Avg Time Between Purchases</th>\n",
       "      <th>Purchase</th>\n",
       "    </tr>\n",
       "    <tr>\n",
       "      <th>CustomerID</th>\n",
       "      <th></th>\n",
       "      <th></th>\n",
       "      <th></th>\n",
       "      <th></th>\n",
       "      <th></th>\n",
       "      <th></th>\n",
       "    </tr>\n",
       "  </thead>\n",
       "  <tbody>\n",
       "    <tr>\n",
       "      <th>12346.0</th>\n",
       "      <td>318</td>\n",
       "      <td>1</td>\n",
       "      <td>77183.60</td>\n",
       "      <td>318</td>\n",
       "      <td>0.000000</td>\n",
       "      <td>0.0</td>\n",
       "    </tr>\n",
       "    <tr>\n",
       "      <th>12347.0</th>\n",
       "      <td>32</td>\n",
       "      <td>6</td>\n",
       "      <td>4085.18</td>\n",
       "      <td>360</td>\n",
       "      <td>54.666667</td>\n",
       "      <td>1.0</td>\n",
       "    </tr>\n",
       "    <tr>\n",
       "      <th>12348.0</th>\n",
       "      <td>68</td>\n",
       "      <td>4</td>\n",
       "      <td>1797.24</td>\n",
       "      <td>351</td>\n",
       "      <td>70.750000</td>\n",
       "      <td>0.0</td>\n",
       "    </tr>\n",
       "    <tr>\n",
       "      <th>12349.0</th>\n",
       "      <td>11</td>\n",
       "      <td>1</td>\n",
       "      <td>1757.55</td>\n",
       "      <td>11</td>\n",
       "      <td>0.000000</td>\n",
       "      <td>0.0</td>\n",
       "    </tr>\n",
       "    <tr>\n",
       "      <th>12350.0</th>\n",
       "      <td>303</td>\n",
       "      <td>1</td>\n",
       "      <td>334.40</td>\n",
       "      <td>303</td>\n",
       "      <td>0.000000</td>\n",
       "      <td>0.0</td>\n",
       "    </tr>\n",
       "  </tbody>\n",
       "</table>\n",
       "</div>"
      ],
      "text/plain": [
       "            Recency  Frequency  Monetary Value  days since first purchase  \\\n",
       "CustomerID                                                                  \n",
       "12346.0         318          1        77183.60                        318   \n",
       "12347.0          32          6         4085.18                        360   \n",
       "12348.0          68          4         1797.24                        351   \n",
       "12349.0          11          1         1757.55                         11   \n",
       "12350.0         303          1          334.40                        303   \n",
       "\n",
       "            Avg Time Between Purchases  Purchase  \n",
       "CustomerID                                        \n",
       "12346.0                       0.000000       0.0  \n",
       "12347.0                      54.666667       1.0  \n",
       "12348.0                      70.750000       0.0  \n",
       "12349.0                       0.000000       0.0  \n",
       "12350.0                       0.000000       0.0  "
      ]
     },
     "execution_count": 29,
     "metadata": {},
     "output_type": "execute_result"
    }
   ],
   "source": [
    "features.head()"
   ]
  },
  {
   "cell_type": "code",
   "execution_count": 30,
   "metadata": {},
   "outputs": [
    {
     "data": {
      "text/plain": [
       "(4307, 6)"
      ]
     },
     "execution_count": 30,
     "metadata": {},
     "output_type": "execute_result"
    }
   ],
   "source": [
    "features.shape"
   ]
  },
  {
   "cell_type": "code",
   "execution_count": 31,
   "metadata": {},
   "outputs": [
    {
     "name": "stdout",
     "output_type": "stream",
     "text": [
      "Did not purchase during the target window: 3874\n",
      "Purchased during the target window: 433\n"
     ]
    }
   ],
   "source": [
    "# Purchase distribution\n",
    "print(\"Did not purchase during the target window:\", features['Purchase'][features['Purchase'] == 0].count()) #class = 0\n",
    "print(\"Purchased during the target window:\", features['Purchase'][features['Purchase'] == 1].count()) #class = 1"
   ]
  },
  {
   "cell_type": "markdown",
   "metadata": {},
   "source": [
    "The data is heavily imbalanced. The majority class (customers who did not make a purchase during the target window) outnumbers the minority class (customers who purchased during the target window) by nearly 8:1. Imbalanced data will have a negative impact on model accuracy. We will address this issue later at the model development stage. "
   ]
  },
  {
   "cell_type": "code",
   "execution_count": 32,
   "metadata": {},
   "outputs": [
    {
     "data": {
      "text/plain": [
       "Recency                         int32\n",
       "Frequency                       int64\n",
       "Monetary Value                float64\n",
       "days since first purchase       int32\n",
       "Avg Time Between Purchases    float64\n",
       "Purchase                      float64\n",
       "dtype: object"
      ]
     },
     "execution_count": 32,
     "metadata": {},
     "output_type": "execute_result"
    }
   ],
   "source": [
    "features.dtypes"
   ]
  },
  {
   "cell_type": "code",
   "execution_count": 33,
   "metadata": {},
   "outputs": [],
   "source": [
    "# Convert recency and purchase to int64\n",
    "features['Recency']= features['Recency'].astype('int64')\n",
    "features['Purchase']= features['Purchase'].astype('int64')"
   ]
  },
  {
   "cell_type": "markdown",
   "metadata": {},
   "source": [
    "# Data Visualization"
   ]
  },
  {
   "cell_type": "code",
   "execution_count": 34,
   "metadata": {},
   "outputs": [
    {
     "data": {
      "image/png": "[encoded data removed]",
      "text/plain": [
       "<Figure size 864x576 with 2 Axes>"
      ]
     },
     "metadata": {
      "needs_background": "light"
     },
     "output_type": "display_data"
    }
   ],
   "source": [
    "import seaborn as sns\n",
    "\n",
    "plt.figure(figsize = (12, 8))\n",
    "features_corr = features.corr()\n",
    "\n",
    "sns.heatmap(features_corr, annot = True)\n",
    "plt.show()"
   ]
  },
  {
   "cell_type": "code",
   "execution_count": 35,
   "metadata": {},
   "outputs": [
    {
     "data": {
      "image/png": "[encoded data removed]",
      "text/plain": [
       "<Figure size 1440x720 with 1 Axes>"
      ]
     },
     "metadata": {
      "needs_background": "light"
     },
     "output_type": "display_data"
    }
   ],
   "source": [
    "plt.figure(figsize = (20, 10))\n",
    "sns.set(font_scale = 1.5)\n",
    "(abs(features_corr)\n",
    " .Purchase\n",
    " .drop('Purchase')\n",
    " .sort_values()\n",
    " .plot\n",
    " .barh())\n",
    "plt.show()"
   ]
  },
  {
   "cell_type": "code",
   "execution_count": 36,
   "metadata": {},
   "outputs": [
    {
     "data": {
      "image/png": "[encoded data removed]",
      "text/plain": [
       "<Figure size 1440x720 with 1 Axes>"
      ]
     },
     "metadata": {},
     "output_type": "display_data"
    }
   ],
   "source": [
    "plt.figure(figsize = (20, 10))\n",
    "\n",
    "sns.distplot(features[features['Purchase']==0]['Frequency'], color = 'red', label='Did not purchase in target window')\n",
    "sns.distplot(features[features['Purchase']==1]['Frequency'], color = 'blue', label='Purchased in target window')\n",
    "plt.ylabel('Frequency')\n",
    "plt.xlabel('Number of Purchases')\n",
    "plt.title('Distribution of Number of Purchases for Customers')\n",
    "plt.legend()\n",
    "plt.show()"
   ]
  },
  {
   "cell_type": "markdown",
   "metadata": {},
   "source": [
    "Customers who made a purchase in the target window have a higher total purchase count than customers who didn’t make a purchase in the target window. A majority of people who didn't make a purchase in target window were one-time customers."
   ]
  },
  {
   "cell_type": "code",
   "execution_count": 37,
   "metadata": {},
   "outputs": [
    {
     "data": {
      "image/png": "[encoded data removed]",
      "text/plain": [
       "<Figure size 1440x720 with 1 Axes>"
      ]
     },
     "metadata": {},
     "output_type": "display_data"
    }
   ],
   "source": [
    "plt.figure(figsize = (20, 10))\n",
    "\n",
    "sns.distplot(features[features['Purchase']==0]['Recency'], color = 'red', label='Did not purchase in target window')\n",
    "sns.distplot(features[features['Purchase']==1]['Recency'], color = 'blue', label='Purchased in target window')\n",
    "plt.ylabel('Frequency')\n",
    "plt.xlabel('Number of Days Since Last Purchase')\n",
    "plt.title('Distribution of Days Since Last Purchase for Customers')\n",
    "plt.legend()\n",
    "plt.show()"
   ]
  },
  {
   "cell_type": "markdown",
   "metadata": {},
   "source": [
    "Most of the customers who made a purchase in the target window also made a purchase in the past 60 days. Thus, they have higher recency than those who did not purchase in the target window. "
   ]
  },
  {
   "cell_type": "code",
   "execution_count": 38,
   "metadata": {},
   "outputs": [
    {
     "data": {
      "image/png": "[encoded data removed]",
      "text/plain": [
       "<Figure size 1440x720 with 1 Axes>"
      ]
     },
     "metadata": {},
     "output_type": "display_data"
    }
   ],
   "source": [
    "plt.figure(figsize = (20, 10))\n",
    "\n",
    "sns.distplot(features[features['Purchase']==0]['Monetary Value'], color = 'red', label='Did not purchase in target window')\n",
    "sns.distplot(features[features['Purchase']==1]['Monetary Value'], color = 'blue', label='Purchased in target window')\n",
    "plt.ylabel('Frequency')\n",
    "plt.xlabel('Monetary Value')\n",
    "plt.title('Distribution of Monetary Value for Customers')\n",
    "plt.legend()\n",
    "plt.show()"
   ]
  },
  {
   "cell_type": "markdown",
   "metadata": {},
   "source": [
    "This plot shows that customers who made a purchase in the target window have a higher monetary value than customers who didn't make a purchase. "
   ]
  },
  {
   "cell_type": "code",
   "execution_count": 39,
   "metadata": {},
   "outputs": [
    {
     "data": {
      "image/png": "[encoded data removed]",
      "text/plain": [
       "<Figure size 1440x720 with 1 Axes>"
      ]
     },
     "metadata": {},
     "output_type": "display_data"
    }
   ],
   "source": [
    "plt.figure(figsize = (20, 10))\n",
    "\n",
    "sns.distplot(features[features['Purchase']==0]['Avg Time Between Purchases'], \n",
    "             color = 'red', label='Did not purchase in target window')\n",
    "sns.distplot(features[features['Purchase']==1]['Avg Time Between Purchases'], \n",
    "             color = 'blue', label='Purchased in target window')\n",
    "plt.ylabel('Frequency')\n",
    "plt.xlabel('Average Number of Days Between Purchases')\n",
    "plt.title('Average Number of Days Between Purchases for all Customers')\n",
    "plt.legend()\n",
    "plt.show()"
   ]
  },
  {
   "cell_type": "markdown",
   "metadata": {},
   "source": [
    "Customers who purchased in the target window have a lower average number of days between purchases than customers who didn't make a purchase in the target window. "
   ]
  },
  {
   "cell_type": "markdown",
   "metadata": {},
   "source": [
    "# Machine Learning Model Development and Evaluation"
   ]
  },
  {
   "cell_type": "markdown",
   "metadata": {},
   "source": [
    "Let's develop machine learning classification models using logistic regression, XGBoost, random forest, AdaBoost, and Gaussian Naive Bayes. Logistic regression serves as a baseline model for comparison. Models are evaluated using cross-validation. 75% of the training data is set aside to train the model and 25% is allocated to the test set. We will handle imbalanced data by balancing the ratio of the negative class to the positive class.    "
   ]
  },
  {
   "cell_type": "code",
   "execution_count": 40,
   "metadata": {},
   "outputs": [],
   "source": [
    "from sklearn.model_selection import train_test_split \n",
    "from sklearn.metrics import classification_report \n",
    "from sklearn.metrics import confusion_matrix\n",
    "from sklearn.metrics import roc_auc_score, accuracy_score\n",
    "from sklearn.ensemble import RandomForestClassifier\n",
    "from xgboost import XGBClassifier\n",
    "from imblearn.under_sampling import RandomUnderSampler\n",
    "from sklearn.ensemble import AdaBoostClassifier\n",
    "from sklearn.linear_model import LogisticRegression\n",
    "from sklearn.preprocessing import StandardScaler, normalize\n",
    "from sklearn.model_selection import RandomizedSearchCV, GridSearchCV\n",
    "from sklearn.naive_bayes import GaussianNB\n",
    "from scipy.stats import uniform\n",
    "from scipy.stats import randint\n",
    "import matplotlib.pyplot as plt\n",
    "\n",
    "# Split into training and testing sets \n",
    "X = features.drop('Purchase', axis=1)\n",
    "y = features['Purchase']\n",
    "X_train, X_test, y_train, y_test = train_test_split(X.values, y.values, test_size = 0.25, random_state=99)"
   ]
  },
  {
   "cell_type": "code",
   "execution_count": 41,
   "metadata": {},
   "outputs": [
    {
     "name": "stdout",
     "output_type": "stream",
     "text": [
      "Logistic Regression - Testing Accuracy: 0.77\n",
      "\n",
      "\n",
      "[[759 210]\n",
      " [ 39  69]]\n",
      "\n",
      "\n",
      "              precision    recall  f1-score   support\n",
      "\n",
      "           0       0.95      0.78      0.86       969\n",
      "           1       0.25      0.64      0.36       108\n",
      "\n",
      "   micro avg       0.77      0.77      0.77      1077\n",
      "   macro avg       0.60      0.71      0.61      1077\n",
      "weighted avg       0.88      0.77      0.81      1077\n",
      "\n",
      "\n",
      "\n",
      "AUC Score: 0.7110853113175094\n"
     ]
    },
    {
     "name": "stderr",
     "output_type": "stream",
     "text": [
      "C:\\Users\\Christopher\\Anaconda3\\lib\\site-packages\\sklearn\\linear_model\\logistic.py:433: FutureWarning: Default solver will be changed to 'lbfgs' in 0.22. Specify a solver to silence this warning.\n",
      "  FutureWarning)\n"
     ]
    }
   ],
   "source": [
    "# Logistic Regression - Baseline Model\n",
    "logreg = LogisticRegression(random_state=0, class_weight='balanced')\n",
    "logreg.fit(X_train,y_train)\n",
    "logreg_pred = logreg.predict(X_test)\n",
    "\n",
    "print(\"Logistic Regression - Testing Accuracy:\", (round(accuracy_score(y_test, logreg_pred.round(0)), 2)))\n",
    "print('\\n')\n",
    "print(confusion_matrix(y_test, logreg_pred))\n",
    "print('\\n')\n",
    "print(classification_report(y_test, logreg_pred))\n",
    "print('\\n')\n",
    "print(\"AUC Score:\", roc_auc_score(y_test, logreg_pred))"
   ]
  },
  {
   "cell_type": "markdown",
   "metadata": {},
   "source": [
    "Our baseline model, logistic regression, has decent accuracy. AUC scores range from 0.5 (no better accuracy than chance) to 1.0 (perfect classifier).Let's see if our other models can do better. "
   ]
  },
  {
   "cell_type": "code",
   "execution_count": 42,
   "metadata": {},
   "outputs": [
    {
     "name": "stdout",
     "output_type": "stream",
     "text": [
      "XGBoost - Testing Accuracy: 0.79\n",
      "\n",
      "\n",
      "[[785 184]\n",
      " [ 38  70]]\n",
      "\n",
      "\n",
      "              precision    recall  f1-score   support\n",
      "\n",
      "           0       0.95      0.81      0.88       969\n",
      "           1       0.28      0.65      0.39       108\n",
      "\n",
      "   micro avg       0.79      0.79      0.79      1077\n",
      "   macro avg       0.61      0.73      0.63      1077\n",
      "weighted avg       0.89      0.79      0.83      1077\n",
      "\n",
      "\n",
      "\n",
      "AUC Score: 0.7291308336199978\n"
     ]
    }
   ],
   "source": [
    "# XGBoost\n",
    "weights = (y==0).sum()/(1.0 *  (y==1).sum())\n",
    "xgb = XGBClassifier(silent=True,\n",
    "                      random_state=1, \n",
    "                      scale_pos_weight=weights,\n",
    "                      learning_rate=0.03,  \n",
    "                      colsample_bytree = 0.8,\n",
    "                      subsample = 0.7,\n",
    "                      objective='binary:logistic', \n",
    "                      n_estimators=100, \n",
    "                      reg_alpha = 0.25,\n",
    "                      min_child_weight = 2,\n",
    "                      max_depth=5,\n",
    "                      n_jobs = -1,\n",
    "                      gamma=1)\n",
    "\n",
    "xgb.fit(X_train, y_train)\n",
    "xgb_pred = xgb.predict(X_test)\n",
    "\n",
    "print(\"XGBoost - Testing Accuracy:\", (round(accuracy_score(y_test, xgb_pred.round(0)), 2)))\n",
    "print('\\n')\n",
    "print(confusion_matrix(y_test, xgb_pred))\n",
    "print('\\n')\n",
    "print(classification_report(y_test, xgb_pred))\n",
    "print('\\n')\n",
    "print(\"AUC Score:\", roc_auc_score(y_test,xgb_pred))"
   ]
  },
  {
   "cell_type": "markdown",
   "metadata": {},
   "source": [
    "After manually tuning the hyperparameters of our XGBoost model, we get an AUC of 0.73. XGBoost has higher model accuracy than our baseline logistic regression model. Let's see if we can increase our accuracy by tuning hyperparameters using *RandomSearchCV*. "
   ]
  },
  {
   "cell_type": "code",
   "execution_count": 43,
   "metadata": {},
   "outputs": [
    {
     "data": {
      "text/plain": [
       "<matplotlib.axes._subplots.AxesSubplot at 0x3f44ffef60>"
      ]
     },
     "execution_count": 43,
     "metadata": {},
     "output_type": "execute_result"
    },
    {
     "data": {
      "image/png": "[encoded data removed]",
      "text/plain": [
       "<Figure size 432x288 with 1 Axes>"
      ]
     },
     "metadata": {},
     "output_type": "display_data"
    }
   ],
   "source": [
    "# XGBoost Feature Importance\n",
    "(pd.Series(xgb.feature_importances_, index=X.columns)\n",
    "   .plot(kind='barh', colormap = 'Pastel1'))  "
   ]
  },
  {
   "cell_type": "code",
   "execution_count": 44,
   "metadata": {},
   "outputs": [
    {
     "name": "stdout",
     "output_type": "stream",
     "text": [
      "Fitting 10 folds for each of 300 candidates, totalling 3000 fits\n"
     ]
    },
    {
     "name": "stderr",
     "output_type": "stream",
     "text": [
      "[Parallel(n_jobs=-1)]: Using backend LokyBackend with 12 concurrent workers.\n",
      "[Parallel(n_jobs=-1)]: Done   8 tasks      | elapsed:    2.3s\n",
      "[Parallel(n_jobs=-1)]: Done 337 tasks      | elapsed:    8.2s\n",
      "[Parallel(n_jobs=-1)]: Done 843 tasks      | elapsed:   32.0s\n",
      "[Parallel(n_jobs=-1)]: Done 1621 tasks      | elapsed:   55.7s\n",
      "[Parallel(n_jobs=-1)]: Done 2908 tasks      | elapsed:  1.6min\n",
      "[Parallel(n_jobs=-1)]: Done 3000 out of 3000 | elapsed:  1.7min finished\n"
     ]
    },
    {
     "name": "stdout",
     "output_type": "stream",
     "text": [
      "XGB Best Parameters: {'colsample_bytree': 0.8213816663685152, 'gamma': 1, 'learning_rate': 0.04542180662046307, 'max_depth': 6, 'min_child_weight': 2, 'n_estimators': 131, 'subsample': 0.769244707415963}\n",
      "XGB Best Score: 0.3742581737691186\n"
     ]
    }
   ],
   "source": [
    "# XGboost - Hyperparameter Tuning with Randomized Search CV \n",
    "weights = (y==0).sum()/(1.0 *  (y==1).sum())\n",
    "xgb = XGBClassifier(random_state=1, scale_pos_weight = weights, n_jobs = -1, objective = 'binary:logistic')\n",
    "xgb_params = {'n_estimators': randint(100, 300),\n",
    "              'learning_rate': uniform(0.01, 0.05),\n",
    "              'subsample': uniform(0.5, 1.0),\n",
    "              'max_depth': [4, 5, 6, 7, 8],\n",
    "              'colsample_bytree': uniform(0.5, 1.0),\n",
    "              'min_child_weight': [1, 2, 3],\n",
    "              'gamma': [0.3, 0.5, 0.7, 1]\n",
    "             }\n",
    "\n",
    "xgb_rs = RandomizedSearchCV(xgb,xgb_params,cv=10,n_jobs=-1, n_iter = 300, scoring = 'f1', error_score = 0, verbose = 3)\n",
    "xgb_rs.fit(X_train, y_train)\n",
    "print(\"XGB Best Parameters:\", xgb_rs.best_params_)\n",
    "print(\"XGB Best Score:\", xgb_rs.best_score_)\n"
   ]
  },
  {
   "cell_type": "code",
   "execution_count": 45,
   "metadata": {},
   "outputs": [
    {
     "name": "stdout",
     "output_type": "stream",
     "text": [
      "XGBoost - Testing Accuracy: 0.82\n",
      "\n",
      "\n",
      "[[815 154]\n",
      " [ 45  63]]\n",
      "\n",
      "\n",
      "              precision    recall  f1-score   support\n",
      "\n",
      "           0       0.95      0.84      0.89       969\n",
      "           1       0.29      0.58      0.39       108\n",
      "\n",
      "   micro avg       0.82      0.82      0.82      1077\n",
      "   macro avg       0.62      0.71      0.64      1077\n",
      "weighted avg       0.88      0.82      0.84      1077\n",
      "\n",
      "\n",
      "\n",
      "AUC Score: 0.7122033023735811\n"
     ]
    }
   ],
   "source": [
    "xgb_pred = xgb_rs.predict(X_test)\n",
    "print(\"XGBoost - Testing Accuracy:\", (round(accuracy_score(y_test, xgb_pred.round(0)), 2)))\n",
    "print('\\n')\n",
    "print(confusion_matrix(y_test, xgb_pred))\n",
    "print('\\n')\n",
    "print(classification_report(y_test, xgb_pred))\n",
    "print('\\n')\n",
    "print(\"AUC Score:\", roc_auc_score(y_test,xgb_pred))"
   ]
  },
  {
   "cell_type": "markdown",
   "metadata": {},
   "source": [
    "Using the optimal hyperparameters from *RandomSearchCV* does not improve our AUC. Thus, we'll stick with our manually tuned XGBoost model."
   ]
  },
  {
   "cell_type": "code",
   "execution_count": 46,
   "metadata": {},
   "outputs": [
    {
     "name": "stdout",
     "output_type": "stream",
     "text": [
      "Random Forest - Testing Accuracy: 0.82\n",
      "\n",
      "\n",
      "[[808 161]\n",
      " [ 38  70]]\n",
      "\n",
      "\n",
      "              precision    recall  f1-score   support\n",
      "\n",
      "           0       0.96      0.83      0.89       969\n",
      "           1       0.30      0.65      0.41       108\n",
      "\n",
      "   micro avg       0.82      0.82      0.82      1077\n",
      "   macro avg       0.63      0.74      0.65      1077\n",
      "weighted avg       0.89      0.82      0.84      1077\n",
      "\n",
      "\n",
      "\n",
      "AUC Score: 0.7409987386767573\n"
     ]
    }
   ],
   "source": [
    "# Random Forest \n",
    "rfc = RandomForestClassifier(random_state=1,\n",
    "                             class_weight='balanced',\n",
    "                             n_jobs = -1,\n",
    "                             n_estimators=344,\n",
    "                             max_depth=5,\n",
    "                             min_samples_split=2,\n",
    "                             min_samples_leaf=3,\n",
    "                             max_features='auto',\n",
    "                             criterion='gini'\n",
    "                             )\n",
    "\n",
    "rfc.fit(X_train, y_train)\n",
    "rfc_pred = rfc.predict(X_test)\n",
    "                \n",
    "print(\"Random Forest - Testing Accuracy:\", (round(accuracy_score(y_test, rfc_pred.round(0)), 2)))\n",
    "print('\\n')\n",
    "print(confusion_matrix(y_test, rfc_pred))\n",
    "print('\\n')\n",
    "print(classification_report(y_test, rfc_pred))\n",
    "print('\\n')\n",
    "print(\"AUC Score:\", roc_auc_score(y_test,rfc_pred))"
   ]
  },
  {
   "cell_type": "markdown",
   "metadata": {},
   "source": [
    "Our random forest model slightly outperforms our XGBoost model. "
   ]
  },
  {
   "cell_type": "code",
   "execution_count": 47,
   "metadata": {},
   "outputs": [
    {
     "data": {
      "text/plain": [
       "<matplotlib.axes._subplots.AxesSubplot at 0x3f3e1b3630>"
      ]
     },
     "execution_count": 47,
     "metadata": {},
     "output_type": "execute_result"
    },
    {
     "data": {
      "image/png": "[encoded data removed]",
      "text/plain": [
       "<Figure size 432x288 with 1 Axes>"
      ]
     },
     "metadata": {},
     "output_type": "display_data"
    }
   ],
   "source": [
    "# Random Forest Feature Importance\n",
    "(pd.Series(rfc.feature_importances_, index=X.columns)\n",
    "   .plot(kind='barh', colormap = 'Pastel2'))"
   ]
  },
  {
   "cell_type": "markdown",
   "metadata": {},
   "source": [
    "Since AdaBoost doesn't have a parameter that can balance the ratio of the negative class to the positive class, we will have to use a method known as undersampling to deal with the imbalanced data. "
   ]
  },
  {
   "cell_type": "code",
   "execution_count": 48,
   "metadata": {},
   "outputs": [
    {
     "data": {
      "text/plain": [
       "<matplotlib.axes._subplots.AxesSubplot at 0x3f408776d8>"
      ]
     },
     "execution_count": 48,
     "metadata": {},
     "output_type": "execute_result"
    },
    {
     "data": {
      "image/png": "[encoded data removed]",
      "text/plain": [
       "<Figure size 432x288 with 1 Axes>"
      ]
     },
     "metadata": {},
     "output_type": "display_data"
    }
   ],
   "source": [
    "# RandomUnderSampler - Undersampling \n",
    "from imblearn.under_sampling import RandomUnderSampler\n",
    "rus = RandomUnderSampler(random_state = 1)\n",
    "X_train_rus, y_train_rus = rus.fit_sample(X_train, y_train)\n",
    "pd.Series(y_train_rus).value_counts().plot('bar')"
   ]
  },
  {
   "cell_type": "code",
   "execution_count": 49,
   "metadata": {},
   "outputs": [
    {
     "name": "stdout",
     "output_type": "stream",
     "text": [
      "AdaBoost - Testing Accuracy: 0.74\n",
      "\n",
      "\n",
      "[[721 248]\n",
      " [ 33  75]]\n",
      "\n",
      "\n",
      "              precision    recall  f1-score   support\n",
      "\n",
      "           0       0.96      0.74      0.84       969\n",
      "           1       0.23      0.69      0.35       108\n",
      "\n",
      "   micro avg       0.74      0.74      0.74      1077\n",
      "   macro avg       0.59      0.72      0.59      1077\n",
      "weighted avg       0.88      0.74      0.79      1077\n",
      "\n",
      "\n",
      "\n",
      "AUC Score: 0.7192552459580325\n"
     ]
    }
   ],
   "source": [
    "# AdaBoost\n",
    "ada = AdaBoostClassifier(random_state=1, \n",
    "                      learning_rate=0.09,  \n",
    "                      n_estimators=350)\n",
    "ada.fit(X_train_rus, y_train_rus)\n",
    "ada_pred = ada.predict(X_test)\n",
    "\n",
    "print(\"AdaBoost - Testing Accuracy:\", (round(accuracy_score(y_test, ada_pred.round(0)), 2)))\n",
    "print('\\n')\n",
    "print(confusion_matrix(y_test, ada_pred))\n",
    "print('\\n')\n",
    "print(classification_report(y_test, ada_pred))\n",
    "print('\\n')\n",
    "print(\"AUC Score:\", roc_auc_score(y_test, ada_pred))"
   ]
  },
  {
   "cell_type": "code",
   "execution_count": 50,
   "metadata": {},
   "outputs": [
    {
     "name": "stdout",
     "output_type": "stream",
     "text": [
      "Gaussian Naive Bayes - Testing Accuracy: 0.77\n",
      "\n",
      "\n",
      "[[759 210]\n",
      " [ 39  69]]\n",
      "\n",
      "\n",
      "              precision    recall  f1-score   support\n",
      "\n",
      "           0       0.95      0.78      0.86       969\n",
      "           1       0.25      0.64      0.36       108\n",
      "\n",
      "   micro avg       0.77      0.77      0.77      1077\n",
      "   macro avg       0.60      0.71      0.61      1077\n",
      "weighted avg       0.88      0.77      0.81      1077\n",
      "\n",
      "\n",
      "\n",
      "AUC Score: 0.7110853113175094\n"
     ]
    }
   ],
   "source": [
    "# Gaussian Naive Bayes\n",
    "gnb = GaussianNB()\n",
    "gnb.fit(X_train_rus,y_train_rus)\n",
    "gnb_pred = gnb.predict(X_test)\n",
    "\n",
    "print(\"Gaussian Naive Bayes - Testing Accuracy:\", (round(accuracy_score(y_test, logreg_pred.round(0)), 2)))\n",
    "print('\\n')\n",
    "print(confusion_matrix(y_test, logreg_pred))\n",
    "print('\\n')\n",
    "print(classification_report(y_test, logreg_pred))\n",
    "print('\\n')\n",
    "print(\"AUC Score:\", roc_auc_score(y_test, logreg_pred))"
   ]
  },
  {
   "cell_type": "markdown",
   "metadata": {},
   "source": [
    "Based on the AUC score, random forest is the most accurate model. "
   ]
  },
  {
   "cell_type": "markdown",
   "metadata": {},
   "source": [
    "# Propensity Scores"
   ]
  },
  {
   "cell_type": "markdown",
   "metadata": {},
   "source": [
    "For the final step, let's use our best performing model (random forest) to output propensity scores for our customers. This will help us identify customers who have the highest probability of making a purchase in the next seven days. "
   ]
  },
  {
   "cell_type": "code",
   "execution_count": 51,
   "metadata": {},
   "outputs": [],
   "source": [
    "X_train, X_test, y_train, y_test = train_test_split(X, y, test_size=0.25, random_state=99)\n",
    "X_train_data = X_train\n",
    "X_test_data = X_test\n",
    "\n",
    "rfc = RandomForestClassifier(random_state=1,\n",
    "                             class_weight='balanced',\n",
    "                             n_jobs = -1,\n",
    "                             n_estimators=344,\n",
    "                             max_depth=5,\n",
    "                             min_samples_split=2,\n",
    "                             min_samples_leaf=3,\n",
    "                             max_features='auto',\n",
    "                             criterion='gini'\n",
    "                             )\n",
    "\n",
    "rfc.fit(X_train_data, y_train)\n",
    "rfc_pred = rfc.predict_proba(X_test_data)\n",
    "df_propensity1 = pd.DataFrame(data=X_test)\n",
    "df_propensity1['Purchase Probability'] = rfc_pred[:,1]"
   ]
  },
  {
   "cell_type": "code",
   "execution_count": 52,
   "metadata": {},
   "outputs": [],
   "source": [
    "rfc_pred_train = rfc.predict_proba(X_train_data)\n",
    "df_propensity2 = pd.DataFrame(data=X_train)\n",
    "df_propensity2['Purchase Probability'] = rfc_pred_train[:,1]"
   ]
  },
  {
   "cell_type": "code",
   "execution_count": 53,
   "metadata": {},
   "outputs": [
    {
     "data": {
      "text/plain": [
       "(4307, 6)"
      ]
     },
     "execution_count": 53,
     "metadata": {},
     "output_type": "execute_result"
    }
   ],
   "source": [
    "df_propensity = pd.concat([df_propensity1,df_propensity2],axis='rows')\n",
    "df_propensity.shape"
   ]
  },
  {
   "cell_type": "markdown",
   "metadata": {},
   "source": [
    "The users below have the highest probability of making a purchase."
   ]
  },
  {
   "cell_type": "code",
   "execution_count": 54,
   "metadata": {},
   "outputs": [
    {
     "data": {
      "text/html": [
       "<div>\n",
       "<style scoped>\n",
       "    .dataframe tbody tr th:only-of-type {\n",
       "        vertical-align: middle;\n",
       "    }\n",
       "\n",
       "    .dataframe tbody tr th {\n",
       "        vertical-align: top;\n",
       "    }\n",
       "\n",
       "    .dataframe thead th {\n",
       "        text-align: right;\n",
       "    }\n",
       "</style>\n",
       "<table border=\"1\" class=\"dataframe\">\n",
       "  <thead>\n",
       "    <tr style=\"text-align: right;\">\n",
       "      <th></th>\n",
       "      <th>Recency</th>\n",
       "      <th>Frequency</th>\n",
       "      <th>Monetary Value</th>\n",
       "      <th>days since first purchase</th>\n",
       "      <th>Avg Time Between Purchases</th>\n",
       "      <th>Purchase Probability</th>\n",
       "    </tr>\n",
       "    <tr>\n",
       "      <th>CustomerID</th>\n",
       "      <th></th>\n",
       "      <th></th>\n",
       "      <th></th>\n",
       "      <th></th>\n",
       "      <th></th>\n",
       "      <th></th>\n",
       "    </tr>\n",
       "  </thead>\n",
       "  <tbody>\n",
       "    <tr>\n",
       "      <th>15498.0</th>\n",
       "      <td>10</td>\n",
       "      <td>26</td>\n",
       "      <td>12451.46</td>\n",
       "      <td>359</td>\n",
       "      <td>13.423077</td>\n",
       "      <td>0.942368</td>\n",
       "    </tr>\n",
       "    <tr>\n",
       "      <th>16525.0</th>\n",
       "      <td>9</td>\n",
       "      <td>25</td>\n",
       "      <td>12705.73</td>\n",
       "      <td>359</td>\n",
       "      <td>14.000000</td>\n",
       "      <td>0.940559</td>\n",
       "    </tr>\n",
       "    <tr>\n",
       "      <th>13113.0</th>\n",
       "      <td>7</td>\n",
       "      <td>23</td>\n",
       "      <td>11906.76</td>\n",
       "      <td>359</td>\n",
       "      <td>15.304348</td>\n",
       "      <td>0.940237</td>\n",
       "    </tr>\n",
       "    <tr>\n",
       "      <th>17428.0</th>\n",
       "      <td>15</td>\n",
       "      <td>27</td>\n",
       "      <td>16841.25</td>\n",
       "      <td>361</td>\n",
       "      <td>12.814815</td>\n",
       "      <td>0.938440</td>\n",
       "    </tr>\n",
       "    <tr>\n",
       "      <th>13319.0</th>\n",
       "      <td>10</td>\n",
       "      <td>25</td>\n",
       "      <td>10536.45</td>\n",
       "      <td>358</td>\n",
       "      <td>13.920000</td>\n",
       "      <td>0.937281</td>\n",
       "    </tr>\n",
       "  </tbody>\n",
       "</table>\n",
       "</div>"
      ],
      "text/plain": [
       "            Recency  Frequency  Monetary Value  days since first purchase  \\\n",
       "CustomerID                                                                  \n",
       "15498.0          10         26        12451.46                        359   \n",
       "16525.0           9         25        12705.73                        359   \n",
       "13113.0           7         23        11906.76                        359   \n",
       "17428.0          15         27        16841.25                        361   \n",
       "13319.0          10         25        10536.45                        358   \n",
       "\n",
       "            Avg Time Between Purchases  Purchase Probability  \n",
       "CustomerID                                                    \n",
       "15498.0                      13.423077              0.942368  \n",
       "16525.0                      14.000000              0.940559  \n",
       "13113.0                      15.304348              0.940237  \n",
       "17428.0                      12.814815              0.938440  \n",
       "13319.0                      13.920000              0.937281  "
      ]
     },
     "execution_count": 54,
     "metadata": {},
     "output_type": "execute_result"
    }
   ],
   "source": [
    "df_propensity.sort_values(by=['Purchase Probability'], ascending=False).head()"
   ]
  },
  {
   "cell_type": "markdown",
   "metadata": {},
   "source": [
    "The users below have the lowest probability of making a purchase."
   ]
  },
  {
   "cell_type": "code",
   "execution_count": 55,
   "metadata": {},
   "outputs": [
    {
     "data": {
      "text/html": [
       "<div>\n",
       "<style scoped>\n",
       "    .dataframe tbody tr th:only-of-type {\n",
       "        vertical-align: middle;\n",
       "    }\n",
       "\n",
       "    .dataframe tbody tr th {\n",
       "        vertical-align: top;\n",
       "    }\n",
       "\n",
       "    .dataframe thead th {\n",
       "        text-align: right;\n",
       "    }\n",
       "</style>\n",
       "<table border=\"1\" class=\"dataframe\">\n",
       "  <thead>\n",
       "    <tr style=\"text-align: right;\">\n",
       "      <th></th>\n",
       "      <th>Recency</th>\n",
       "      <th>Frequency</th>\n",
       "      <th>Monetary Value</th>\n",
       "      <th>days since first purchase</th>\n",
       "      <th>Avg Time Between Purchases</th>\n",
       "      <th>Purchase Probability</th>\n",
       "    </tr>\n",
       "    <tr>\n",
       "      <th>CustomerID</th>\n",
       "      <th></th>\n",
       "      <th></th>\n",
       "      <th></th>\n",
       "      <th></th>\n",
       "      <th></th>\n",
       "      <th></th>\n",
       "    </tr>\n",
       "  </thead>\n",
       "  <tbody>\n",
       "    <tr>\n",
       "      <th>14439.0</th>\n",
       "      <td>312</td>\n",
       "      <td>1</td>\n",
       "      <td>2661.24</td>\n",
       "      <td>312</td>\n",
       "      <td>0.0</td>\n",
       "      <td>0.072671</td>\n",
       "    </tr>\n",
       "    <tr>\n",
       "      <th>12346.0</th>\n",
       "      <td>318</td>\n",
       "      <td>1</td>\n",
       "      <td>77183.60</td>\n",
       "      <td>318</td>\n",
       "      <td>0.0</td>\n",
       "      <td>0.074802</td>\n",
       "    </tr>\n",
       "    <tr>\n",
       "      <th>12764.0</th>\n",
       "      <td>309</td>\n",
       "      <td>1</td>\n",
       "      <td>1693.88</td>\n",
       "      <td>309</td>\n",
       "      <td>0.0</td>\n",
       "      <td>0.076868</td>\n",
       "    </tr>\n",
       "    <tr>\n",
       "      <th>14935.0</th>\n",
       "      <td>290</td>\n",
       "      <td>1</td>\n",
       "      <td>1784.71</td>\n",
       "      <td>290</td>\n",
       "      <td>0.0</td>\n",
       "      <td>0.077305</td>\n",
       "    </tr>\n",
       "    <tr>\n",
       "      <th>13551.0</th>\n",
       "      <td>312</td>\n",
       "      <td>1</td>\n",
       "      <td>91.80</td>\n",
       "      <td>312</td>\n",
       "      <td>0.0</td>\n",
       "      <td>0.080398</td>\n",
       "    </tr>\n",
       "  </tbody>\n",
       "</table>\n",
       "</div>"
      ],
      "text/plain": [
       "            Recency  Frequency  Monetary Value  days since first purchase  \\\n",
       "CustomerID                                                                  \n",
       "14439.0         312          1         2661.24                        312   \n",
       "12346.0         318          1        77183.60                        318   \n",
       "12764.0         309          1         1693.88                        309   \n",
       "14935.0         290          1         1784.71                        290   \n",
       "13551.0         312          1           91.80                        312   \n",
       "\n",
       "            Avg Time Between Purchases  Purchase Probability  \n",
       "CustomerID                                                    \n",
       "14439.0                            0.0              0.072671  \n",
       "12346.0                            0.0              0.074802  \n",
       "12764.0                            0.0              0.076868  \n",
       "14935.0                            0.0              0.077305  \n",
       "13551.0                            0.0              0.080398  "
      ]
     },
     "execution_count": 55,
     "metadata": {},
     "output_type": "execute_result"
    }
   ],
   "source": [
    "df_propensity.sort_values(by=['Purchase Probability'], ascending=True).head()"
   ]
  },
  {
   "cell_type": "code",
   "execution_count": 56,
   "metadata": {},
   "outputs": [],
   "source": [
    "propensity_90 = df_propensity[df_propensity['Purchase Probability'] >= 0.9]\n",
    "propensity_80 = df_propensity[(df_propensity['Purchase Probability'] >= 0.8) & (df_propensity['Purchase Probability'] < 0.9) ]\n",
    "propensity_70 = df_propensity[(df_propensity['Purchase Probability'] >= 0.7) & (df_propensity['Purchase Probability'] < 0.8) ]\n",
    "propensity_60 = df_propensity[(df_propensity['Purchase Probability'] >= 0.6) & (df_propensity['Purchase Probability'] < 0.7) ]\n",
    "propensity_50 = df_propensity[(df_propensity['Purchase Probability'] >= 0.5) & (df_propensity['Purchase Probability'] < 0.6) ]\n",
    "propensity_40 = df_propensity[(df_propensity['Purchase Probability'] >= 0.4) & (df_propensity['Purchase Probability'] < 0.5) ]\n",
    "propensity_30 = df_propensity[(df_propensity['Purchase Probability'] >= 0.3) & (df_propensity['Purchase Probability'] < 0.4) ]\n",
    "propensity_20 = df_propensity[(df_propensity['Purchase Probability'] >= 0.2) & (df_propensity['Purchase Probability'] < 0.3) ]\n",
    "propensity_10 = df_propensity[(df_propensity['Purchase Probability'] >= 0.1) & (df_propensity['Purchase Probability'] < 0.2) ]\n",
    "propensity_0 = df_propensity[(df_propensity['Purchase Probability'] >= 0) & (df_propensity['Purchase Probability'] < 0.1) ]"
   ]
  },
  {
   "cell_type": "code",
   "execution_count": 57,
   "metadata": {},
   "outputs": [
    {
     "name": "stderr",
     "output_type": "stream",
     "text": [
      "C:\\Users\\Christopher\\Anaconda3\\lib\\site-packages\\ipykernel_launcher.py:1: SettingWithCopyWarning: \n",
      "A value is trying to be set on a copy of a slice from a DataFrame.\n",
      "Try using .loc[row_indexer,col_indexer] = value instead\n",
      "\n",
      "See the caveats in the documentation: http://pandas.pydata.org/pandas-docs/stable/indexing.html#indexing-view-versus-copy\n",
      "  \"\"\"Entry point for launching an IPython kernel.\n",
      "C:\\Users\\Christopher\\Anaconda3\\lib\\site-packages\\ipykernel_launcher.py:2: SettingWithCopyWarning: \n",
      "A value is trying to be set on a copy of a slice from a DataFrame.\n",
      "Try using .loc[row_indexer,col_indexer] = value instead\n",
      "\n",
      "See the caveats in the documentation: http://pandas.pydata.org/pandas-docs/stable/indexing.html#indexing-view-versus-copy\n",
      "  \n",
      "C:\\Users\\Christopher\\Anaconda3\\lib\\site-packages\\ipykernel_launcher.py:3: SettingWithCopyWarning: \n",
      "A value is trying to be set on a copy of a slice from a DataFrame.\n",
      "Try using .loc[row_indexer,col_indexer] = value instead\n",
      "\n",
      "See the caveats in the documentation: http://pandas.pydata.org/pandas-docs/stable/indexing.html#indexing-view-versus-copy\n",
      "  This is separate from the ipykernel package so we can avoid doing imports until\n",
      "C:\\Users\\Christopher\\Anaconda3\\lib\\site-packages\\ipykernel_launcher.py:4: SettingWithCopyWarning: \n",
      "A value is trying to be set on a copy of a slice from a DataFrame.\n",
      "Try using .loc[row_indexer,col_indexer] = value instead\n",
      "\n",
      "See the caveats in the documentation: http://pandas.pydata.org/pandas-docs/stable/indexing.html#indexing-view-versus-copy\n",
      "  after removing the cwd from sys.path.\n",
      "C:\\Users\\Christopher\\Anaconda3\\lib\\site-packages\\ipykernel_launcher.py:5: SettingWithCopyWarning: \n",
      "A value is trying to be set on a copy of a slice from a DataFrame.\n",
      "Try using .loc[row_indexer,col_indexer] = value instead\n",
      "\n",
      "See the caveats in the documentation: http://pandas.pydata.org/pandas-docs/stable/indexing.html#indexing-view-versus-copy\n",
      "  \"\"\"\n",
      "C:\\Users\\Christopher\\Anaconda3\\lib\\site-packages\\ipykernel_launcher.py:6: SettingWithCopyWarning: \n",
      "A value is trying to be set on a copy of a slice from a DataFrame.\n",
      "Try using .loc[row_indexer,col_indexer] = value instead\n",
      "\n",
      "See the caveats in the documentation: http://pandas.pydata.org/pandas-docs/stable/indexing.html#indexing-view-versus-copy\n",
      "  \n",
      "C:\\Users\\Christopher\\Anaconda3\\lib\\site-packages\\ipykernel_launcher.py:7: SettingWithCopyWarning: \n",
      "A value is trying to be set on a copy of a slice from a DataFrame.\n",
      "Try using .loc[row_indexer,col_indexer] = value instead\n",
      "\n",
      "See the caveats in the documentation: http://pandas.pydata.org/pandas-docs/stable/indexing.html#indexing-view-versus-copy\n",
      "  import sys\n",
      "C:\\Users\\Christopher\\Anaconda3\\lib\\site-packages\\ipykernel_launcher.py:8: SettingWithCopyWarning: \n",
      "A value is trying to be set on a copy of a slice from a DataFrame.\n",
      "Try using .loc[row_indexer,col_indexer] = value instead\n",
      "\n",
      "See the caveats in the documentation: http://pandas.pydata.org/pandas-docs/stable/indexing.html#indexing-view-versus-copy\n",
      "  \n",
      "C:\\Users\\Christopher\\Anaconda3\\lib\\site-packages\\ipykernel_launcher.py:9: SettingWithCopyWarning: \n",
      "A value is trying to be set on a copy of a slice from a DataFrame.\n",
      "Try using .loc[row_indexer,col_indexer] = value instead\n",
      "\n",
      "See the caveats in the documentation: http://pandas.pydata.org/pandas-docs/stable/indexing.html#indexing-view-versus-copy\n",
      "  if __name__ == '__main__':\n",
      "C:\\Users\\Christopher\\Anaconda3\\lib\\site-packages\\ipykernel_launcher.py:10: SettingWithCopyWarning: \n",
      "A value is trying to be set on a copy of a slice from a DataFrame.\n",
      "Try using .loc[row_indexer,col_indexer] = value instead\n",
      "\n",
      "See the caveats in the documentation: http://pandas.pydata.org/pandas-docs/stable/indexing.html#indexing-view-versus-copy\n",
      "  # Remove the CWD from sys.path while we load stuff.\n"
     ]
    }
   ],
   "source": [
    "propensity_90['Purchase Probability'] = \"90 - 95%\"\n",
    "propensity_80['Purchase Probability'] = \"80 - 89%\"\n",
    "propensity_70['Purchase Probability'] = \"70 - 79%\"\n",
    "propensity_60['Purchase Probability'] = \"60 - 69%\"\n",
    "propensity_50['Purchase Probability'] = \"50 - 59%\"\n",
    "propensity_40['Purchase Probability'] = \"40 - 49%\"\n",
    "propensity_30['Purchase Probability'] = \"30 - 39%\"\n",
    "propensity_20['Purchase Probability'] = \"20 - 29%\"\n",
    "propensity_10['Purchase Probability'] = \"10 - 19%\"\n",
    "propensity_0['Purchase Probability']  = \"7 - 9%\""
   ]
  },
  {
   "cell_type": "code",
   "execution_count": 58,
   "metadata": {},
   "outputs": [
    {
     "data": {
      "text/plain": [
       "20 - 29%    1007\n",
       "30 - 39%     968\n",
       "10 - 19%     834\n",
       "40 - 49%     529\n",
       "50 - 59%     360\n",
       "60 - 69%     255\n",
       "80 - 89%     109\n",
       "70 - 79%     100\n",
       "90 - 95%      81\n",
       "7 - 9%        64\n",
       "Name: Purchase Probability, dtype: int64"
      ]
     },
     "execution_count": 58,
     "metadata": {},
     "output_type": "execute_result"
    }
   ],
   "source": [
    "propensity_dfs = [propensity_90, propensity_80, propensity_70, propensity_60, propensity_50, propensity_40, propensity_30, propensity_20, propensity_10, propensity_0]\n",
    "purchase_prob = pd.concat(propensity_dfs)\n",
    "purchase_prob['Purchase Probability'].value_counts()"
   ]
  },
  {
   "cell_type": "code",
   "execution_count": 59,
   "metadata": {},
   "outputs": [
    {
     "data": {
      "image/svg+xml": [
       "<svg class=\"main-svg\" xmlns=\"http://www.w3.org/2000/svg\" xmlns:xlink=\"http://www.w3.org/1999/xlink\" width=\"700\" height=\"450\" viewBox=\"0 0 700 450\"><rect x=\"0\" y=\"0\" width=\"700\" height=\"450\" style=\"fill: rgb(255, 255, 255); fill-opacity: 1;\"/><defs id=\"defs-a44dae\"><g class=\"clips\"><clipPath id=\"clipa44daexyplot\" class=\"plotclip\"><rect width=\"529.2\" height=\"270\"/></clipPath><clipPath class=\"axesclip\" id=\"clipa44daex\"><rect x=\"80\" y=\"0\" width=\"529.2\" height=\"450\"/></clipPath><clipPath class=\"axesclip\" id=\"clipa44daey\"><rect x=\"0\" y=\"100\" width=\"700\" height=\"270\"/></clipPath><clipPath class=\"axesclip\" id=\"clipa44daexy\"><rect x=\"80\" y=\"100\" width=\"529.2\" height=\"270\"/></clipPath></g><g class=\"gradients\"/></defs><g class=\"bglayer\"><rect class=\"bg\" x=\"80\" y=\"100\" width=\"529.2\" height=\"270\" style=\"fill: rgb(229, 236, 246); fill-opacity: 1; stroke-width: 0;\"/></g><g class=\"layer-below\"><g class=\"imagelayer\"/><g class=\"shapelayer\"/></g><g class=\"cartesianlayer\"><g class=\"subplot xy\"><g class=\"layer-subplot\"><g class=\"shapelayer\"/><g class=\"imagelayer\"/></g><g class=\"gridlayer\"><g class=\"x\"/><g class=\"y\"><path class=\"ygrid crisp\" transform=\"translate(0,319.06)\" d=\"M80,0h529.2\" style=\"stroke: rgb(255, 255, 255); stroke-opacity: 1; stroke-width: 1px;\"/><path class=\"ygrid crisp\" transform=\"translate(0,268.11)\" d=\"M80,0h529.2\" style=\"stroke: rgb(255, 255, 255); stroke-opacity: 1; stroke-width: 1px;\"/><path class=\"ygrid crisp\" transform=\"translate(0,217.17000000000002)\" d=\"M80,0h529.2\" style=\"stroke: rgb(255, 255, 255); stroke-opacity: 1; stroke-width: 1px;\"/><path class=\"ygrid crisp\" transform=\"translate(0,166.23000000000002)\" d=\"M80,0h529.2\" style=\"stroke: rgb(255, 255, 255); stroke-opacity: 1; stroke-width: 1px;\"/><path class=\"ygrid crisp\" transform=\"translate(0,115.28)\" d=\"M80,0h529.2\" style=\"stroke: rgb(255, 255, 255); stroke-opacity: 1; stroke-width: 1px;\"/></g></g><g class=\"zerolinelayer\"><path class=\"yzl zl crisp\" transform=\"translate(0,370)\" d=\"M80,0h529.2\" style=\"stroke: rgb(255, 255, 255); stroke-opacity: 1; stroke-width: 2px;\"/></g><path class=\"xlines-below\"/><path class=\"ylines-below\"/><g class=\"overlines-below\"/><g class=\"xaxislayer-below\"/><g class=\"yaxislayer-below\"/><g class=\"overaxes-below\"/><g class=\"plot\" transform=\"translate(80, 100)\" clip-path=\"url('#clipa44daexyplot')\"><g class=\"barlayer mlayer\"><g class=\"trace bars\" style=\"opacity: 1;\"><g class=\"points\"><g class=\"point\"><path d=\"M5.29,270V249.37H47.63V270Z\" style=\"vector-effect: non-scaling-stroke; opacity: 1; stroke-width: 0px; fill: rgb(99, 110, 250); fill-opacity: 1;\"/></g><g class=\"point\"><path d=\"M58.21,270V242.24H100.55V270Z\" style=\"vector-effect: non-scaling-stroke; opacity: 1; stroke-width: 0px; fill: rgb(99, 110, 250); fill-opacity: 1;\"/></g><g class=\"point\"><path d=\"M111.13,270V244.53H153.47V270Z\" style=\"vector-effect: non-scaling-stroke; opacity: 1; stroke-width: 0px; fill: rgb(99, 110, 250); fill-opacity: 1;\"/></g><g class=\"point\"><path d=\"M164.05,270V205.05H206.39V270Z\" style=\"vector-effect: non-scaling-stroke; opacity: 1; stroke-width: 0px; fill: rgb(99, 110, 250); fill-opacity: 1;\"/></g><g class=\"point\"><path d=\"M216.97,270V178.3H259.31V270Z\" style=\"vector-effect: non-scaling-stroke; opacity: 1; stroke-width: 0px; fill: rgb(99, 110, 250); fill-opacity: 1;\"/></g><g class=\"point\"><path d=\"M269.89,270V135.25H312.23V270Z\" style=\"vector-effect: non-scaling-stroke; opacity: 1; stroke-width: 0px; fill: rgb(99, 110, 250); fill-opacity: 1;\"/></g><g class=\"point\"><path d=\"M322.81,270V23.43H365.15V270Z\" style=\"vector-effect: non-scaling-stroke; opacity: 1; stroke-width: 0px; fill: rgb(99, 110, 250); fill-opacity: 1;\"/></g><g class=\"point\"><path d=\"M375.73,270V13.5H418.07V270Z\" style=\"vector-effect: non-scaling-stroke; opacity: 1; stroke-width: 0px; fill: rgb(99, 110, 250); fill-opacity: 1;\"/></g><g class=\"point\"><path d=\"M428.65,270V57.57H470.99V270Z\" style=\"vector-effect: non-scaling-stroke; opacity: 1; stroke-width: 0px; fill: rgb(99, 110, 250); fill-opacity: 1;\"/></g><g class=\"point\"><path d=\"M481.57,270V253.7H523.91V270Z\" style=\"vector-effect: non-scaling-stroke; opacity: 1; stroke-width: 0px; fill: rgb(99, 110, 250); fill-opacity: 1;\"/></g></g></g></g></g><g class=\"overplot\"/><path class=\"xlines-above crisp\" d=\"M0,0\" style=\"fill: none;\"/><path class=\"ylines-above crisp\" d=\"M0,0\" style=\"fill: none;\"/><g class=\"overlines-above\"/><g class=\"xaxislayer-above\"><g class=\"xtick\"><text text-anchor=\"middle\" x=\"0\" y=\"383\" transform=\"translate(106.46000000000001,0)\" style=\"font-family: 'Open Sans', verdana, arial, sans-serif; font-size: 12px; fill: rgb(42, 63, 95); fill-opacity: 1; white-space: pre;\">90 - 95%</text></g><g class=\"xtick\"><text text-anchor=\"middle\" x=\"0\" y=\"383\" transform=\"translate(159.38,0)\" style=\"font-family: 'Open Sans', verdana, arial, sans-serif; font-size: 12px; fill: rgb(42, 63, 95); fill-opacity: 1; white-space: pre;\">80 - 89%</text></g><g class=\"xtick\"><text text-anchor=\"middle\" x=\"0\" y=\"383\" transform=\"translate(212.3,0)\" style=\"font-family: 'Open Sans', verdana, arial, sans-serif; font-size: 12px; fill: rgb(42, 63, 95); fill-opacity: 1; white-space: pre;\">70 - 79%</text></g><g class=\"xtick\"><text text-anchor=\"middle\" x=\"0\" y=\"383\" transform=\"translate(265.22,0)\" style=\"font-family: 'Open Sans', verdana, arial, sans-serif; font-size: 12px; fill: rgb(42, 63, 95); fill-opacity: 1; white-space: pre;\">60 - 69%</text></g><g class=\"xtick\"><text text-anchor=\"middle\" x=\"0\" y=\"383\" transform=\"translate(318.14,0)\" style=\"font-family: 'Open Sans', verdana, arial, sans-serif; font-size: 12px; fill: rgb(42, 63, 95); fill-opacity: 1; white-space: pre;\">50 - 59%</text></g><g class=\"xtick\"><text text-anchor=\"middle\" x=\"0\" y=\"383\" transform=\"translate(371.06,0)\" style=\"font-family: 'Open Sans', verdana, arial, sans-serif; font-size: 12px; fill: rgb(42, 63, 95); fill-opacity: 1; white-space: pre;\">40 - 49%</text></g><g class=\"xtick\"><text text-anchor=\"middle\" x=\"0\" y=\"383\" transform=\"translate(423.98,0)\" style=\"font-family: 'Open Sans', verdana, arial, sans-serif; font-size: 12px; fill: rgb(42, 63, 95); fill-opacity: 1; white-space: pre;\">30 - 39%</text></g><g class=\"xtick\"><text text-anchor=\"middle\" x=\"0\" y=\"383\" transform=\"translate(476.9,0)\" style=\"font-family: 'Open Sans', verdana, arial, sans-serif; font-size: 12px; fill: rgb(42, 63, 95); fill-opacity: 1; white-space: pre;\">20 - 29%</text></g><g class=\"xtick\"><text text-anchor=\"middle\" x=\"0\" y=\"383\" transform=\"translate(529.8199999999999,0)\" style=\"font-family: 'Open Sans', verdana, arial, sans-serif; font-size: 12px; fill: rgb(42, 63, 95); fill-opacity: 1; white-space: pre;\">10 - 19%</text></g><g class=\"xtick\"><text text-anchor=\"middle\" x=\"0\" y=\"383\" transform=\"translate(582.74,0)\" style=\"font-family: 'Open Sans', verdana, arial, sans-serif; font-size: 12px; fill: rgb(42, 63, 95); fill-opacity: 1; white-space: pre;\">7 - 9%</text></g></g><g class=\"yaxislayer-above\"><g class=\"ytick\"><text text-anchor=\"end\" x=\"79\" y=\"4.199999999999999\" transform=\"translate(0,370)\" style=\"font-family: 'Open Sans', verdana, arial, sans-serif; font-size: 12px; fill: rgb(42, 63, 95); fill-opacity: 1; white-space: pre;\">0</text></g><g class=\"ytick\"><text text-anchor=\"end\" x=\"79\" y=\"4.199999999999999\" transform=\"translate(0,319.06)\" style=\"font-family: 'Open Sans', verdana, arial, sans-serif; font-size: 12px; fill: rgb(42, 63, 95); fill-opacity: 1; white-space: pre;\">200</text></g><g class=\"ytick\"><text text-anchor=\"end\" x=\"79\" y=\"4.199999999999999\" transform=\"translate(0,268.11)\" style=\"font-family: 'Open Sans', verdana, arial, sans-serif; font-size: 12px; fill: rgb(42, 63, 95); fill-opacity: 1; white-space: pre;\">400</text></g><g class=\"ytick\"><text text-anchor=\"end\" x=\"79\" y=\"4.199999999999999\" transform=\"translate(0,217.17000000000002)\" style=\"font-family: 'Open Sans', verdana, arial, sans-serif; font-size: 12px; fill: rgb(42, 63, 95); fill-opacity: 1; white-space: pre;\">600</text></g><g class=\"ytick\"><text text-anchor=\"end\" x=\"79\" y=\"4.199999999999999\" transform=\"translate(0,166.23000000000002)\" style=\"font-family: 'Open Sans', verdana, arial, sans-serif; font-size: 12px; fill: rgb(42, 63, 95); fill-opacity: 1; white-space: pre;\">800</text></g><g class=\"ytick\"><text text-anchor=\"end\" x=\"79\" y=\"4.199999999999999\" transform=\"translate(0,115.28)\" style=\"font-family: 'Open Sans', verdana, arial, sans-serif; font-size: 12px; fill: rgb(42, 63, 95); fill-opacity: 1; white-space: pre;\">1000</text></g></g><g class=\"overaxes-above\"/></g></g><g class=\"polarlayer\"/><g class=\"ternarylayer\"/><g class=\"geolayer\"/><g class=\"funnelarealayer\"/><g class=\"pielayer\"/><g class=\"sunburstlayer\"/><g class=\"glimages\"/><defs id=\"topdefs-a44dae\"><g class=\"clips\"/></defs><g class=\"layer-above\"><g class=\"imagelayer\"/><g class=\"shapelayer\"/></g><g class=\"infolayer\"><g class=\"g-gtitle\"><text class=\"gtitle\" x=\"350\" y=\"50\" text-anchor=\"middle\" dy=\"0em\" style=\"font-family: 'Open Sans', verdana, arial, sans-serif; font-size: 17px; fill: rgb(42, 63, 95); opacity: 1; font-weight: normal; white-space: pre;\">Probability of Making a Purchase</text></g><g class=\"g-xtitle\"><text class=\"xtitle\" x=\"344.6\" y=\"422\" text-anchor=\"middle\" style=\"font-family: 'Open Sans', verdana, arial, sans-serif; font-size: 14px; fill: rgb(42, 63, 95); opacity: 1; font-weight: normal; white-space: pre;\">Purchase Probability</text></g><g class=\"g-ytitle\"><text class=\"ytitle\" transform=\"rotate(-90,42,235)\" x=\"42\" y=\"235\" text-anchor=\"middle\" style=\"font-family: 'Open Sans', verdana, arial, sans-serif; font-size: 14px; fill: rgb(42, 63, 95); opacity: 1; font-weight: normal; white-space: pre;\">count</text></g></g></svg>"
      ]
     },
     "metadata": {},
     "output_type": "display_data"
    }
   ],
   "source": [
    "import plotly_express as px \n",
    "fig = px.histogram(data_frame=purchase_prob,\n",
    "       x='Purchase Probability',\n",
    "       template='plotly',\n",
    "       title='Probability of Making a Purchase'     \n",
    "      ).update(layout=dict(title=dict(x=0.5)))\n",
    "fig.show(\"svg\")"
   ]
  },
  {
   "cell_type": "markdown",
   "metadata": {},
   "source": [
    "**Insights and Recommendations**: This chart helps us focus on decile groups that have the highest chance of making a purchase. The customers in the group on the far left are few in number but have the highest probability of making a purchase in the next seven days. In contrast, the group on the far right has the lowest probability of making a purchase in the target window. \n",
    "\n",
    "There are two ways we can apply marketing strategies to increase the likelihood that customers will make a purchase. If resources and funding are not an issue, we can give our marketing incentives to customers in the 70 – 79%, 60 - 69%, and 50 - 59% decile groups to increase the likelihood that they will make a purchase. Customers in the 90 – 95% and 80 - 89% decile groups already have a very high probability of making a purchase. Therefore, it may not be necessary to give them an incentive. The only time we should give them an incentive is when they don't make a purchase in the expected timeframe. If resources are limited, we should only give marketing incentives to customers in the decile groups between 70 - 95% if they don't make a purchase during the seven day window.\n"
   ]
  }
 ],
 "metadata": {
  "kernelspec": {
   "display_name": "Python 3",
   "language": "python",
   "name": "python3"
  },
  "language_info": {
   "codemirror_mode": {
    "name": "ipython",
    "version": 3
   },
   "file_extension": ".py",
   "mimetype": "text/x-python",
   "name": "python",
   "nbconvert_exporter": "python",
   "pygments_lexer": "ipython3",
   "version": "3.6.8"
  }
 },
 "nbformat": 4,
 "nbformat_minor": 2
}
